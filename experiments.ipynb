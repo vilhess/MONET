{
 "cells": [
  {
   "cell_type": "markdown",
   "id": "622b38e3-273c-49a4-ac5f-29b0ab6e87c9",
   "metadata": {},
   "source": [
    "# Improving Training-Free Neural Architecture Search using NRPA and NTK\n",
    "\n",
    "In this notebook, we design several experiments aimed at evaluating two innovative NAS methods:\n",
    "\n",
    "- A more efficient **search algorithm**, NRPA, that leverages Monte-Carlo playouts\n",
    "- A more robust **training-free metric** based on the NTK\n",
    "\n",
    "We conduct these experiments on the following NAS benchmark datasets:\n",
    "- NAS-Bench-101\n",
    "- NAS-Bench-201\n",
    "- NAS-Bench-301\n",
    "- NATS-Bench Size"
   ]
  },
  {
   "cell_type": "markdown",
   "id": "4063a091-3e1e-457f-a81f-f50169a78923",
   "metadata": {},
   "source": [
    "## Imports"
   ]
  },
  {
   "cell_type": "markdown",
   "id": "4936b7dc-5346-4226-b80c-e3517a5c56ae",
   "metadata": {},
   "source": [
    "### Importing basic libraries"
   ]
  },
  {
   "cell_type": "code",
   "execution_count": null,
   "id": "8b5bc026-4d49-429c-9d43-f530bb7ca19f",
   "metadata": {},
   "outputs": [],
   "source": [
    "import numpy as np\n",
    "import matplotlib.pyplot as plt\n",
    "import seaborn as sns\n",
    "import pandas as pd\n",
    "import time\n",
    "import json\n",
    "from utils.helpers import configure_seaborn, normalize\n",
    "import importlib\n",
    "configure_seaborn()\n",
    "from scipy.stats import spearmanr"
   ]
  },
  {
   "cell_type": "code",
   "execution_count": null,
   "id": "ea2a5ce7-2d8d-44a7-aadc-108949788e3f",
   "metadata": {},
   "outputs": [],
   "source": [
    "from nasbench import api  # NB101\n",
    "from nas_201_api import NASBench201API as API  # NB201\n",
    "import nasbench301 as nb  # NB301\n",
    "import nats_bench  # NATS"
   ]
  },
  {
   "cell_type": "markdown",
   "id": "ad3da0ae-9e7e-44e7-9c44-48f074111b71",
   "metadata": {},
   "source": [
    "### Importing our libraries"
   ]
  },
  {
   "cell_type": "code",
   "execution_count": null,
   "id": "42fdf893-32d4-4044-bed8-27fd5173af8d",
   "metadata": {},
   "outputs": [],
   "source": [
    "# NAS-Bench-101\n",
    "from search_spaces.nas_bench_101.NASBench101Node import *\n",
    "from search_spaces.nas_bench_101.NASBench101MCTS import *\n",
    "from search_spaces.nas_bench_101.NASBench101RandomSearch import *\n",
    "from search_spaces.nas_bench_101.NASBench101RegEvo import *\n",
    "\n",
    "# NAS-Bench-201\n",
    "from search_spaces.nas_bench_201.NASBench201Node import *\n",
    "from search_spaces.nas_bench_201.NASBench201MCTS import *\n",
    "from search_spaces.nas_bench_201.NASBench201RandomSearch import *\n",
    "from search_spaces.nas_bench_201.NASBench201RegEvo import *\n",
    "\n",
    "# NAS-Bench-301\n",
    "from search_spaces.nas_bench_301.NASBench301Node import *\n",
    "from search_spaces.nas_bench_301.NASBench301MCTS import *\n",
    "from search_spaces.nas_bench_301.NASBench301RandomSearch import *\n",
    "from search_spaces.nas_bench_301.NASBench301RegEvo import *\n",
    "\n",
    "# NATS-Bench\n",
    "from search_spaces.nats_bench_dataset.NATSBenchNode import *\n",
    "from search_spaces.nats_bench_dataset.NATSBenchMCTS import *\n",
    "from search_spaces.nats_bench_dataset.NATSBenchRandomSearch import *\n",
    "from search_spaces.nats_bench_dataset.NATSBenchRegEvo import *"
   ]
  },
  {
   "cell_type": "markdown",
   "id": "23a8b214-4515-48ef-ac0d-ffc44e0d7f39",
   "metadata": {},
   "source": [
    "## Evaluating the search algorithms\n",
    "\n",
    "Creating a dictionary of datasets for evaluation. This cell can take time to run."
   ]
  },
  {
   "cell_type": "code",
   "execution_count": null,
   "id": "3b0705a3-d9ca-4ec9-b190-59d46b2e634c",
   "metadata": {
    "scrolled": true
   },
   "outputs": [],
   "source": [
    "models_1_0_dir = \"api/nasbench301_models_v1.0/nb_models\"\n",
    "model_paths = {\n",
    "    model_name: os.path.join(models_1_0_dir, '{}_v1.0'.format(model_name))\n",
    "    for model_name in ['xgb', 'lgb_runtime']\n",
    "}\n",
    "NB_301_performance_model = nb.load_ensemble(model_paths['xgb'])\n",
    "\n",
    "nas_bench_201_api = API('api/NAS-Bench-201-v1_1-096897.pth', verbose=False)\n",
    "\n",
    "nas_bench_101_api = api.NASBench(\"api/nasbench_full.tfrecord\")\n",
    "\n",
    "nats_bench_api = nats_bench.create(\"api/NATS-sss-v1_0-50262-simple\", \"sss\", fast_mode=True, verbose=False)"
   ]
  },
  {
   "cell_type": "code",
   "execution_count": null,
   "id": "761acb66-e499-4b86-b135-8797463f153b",
   "metadata": {},
   "outputs": [],
   "source": [
    "datasets = {\n",
    "            \"nas_bench_101\": {\"api\": nas_bench_101_api,\n",
    "                              \"n_runs\": 100,\n",
    "                              \"n_iter\": 3375,\n",
    "                              \"nrpa_level\": 3,\n",
    "                              \"nrpa_alpha\": .01},\n",
    "            \"nas_bench_201\": {\"api\": nas_bench_201_api,\n",
    "                              \"n_runs\": 100,\n",
    "                              \"n_iter\": 2000,\n",
    "                              \"nrpa_level\": 3,\n",
    "                              \"nrpa_alpha\": .1}, \n",
    "            \"nas_bench_301\": {\"api\": NB_301_performance_model,\n",
    "                              \"n_runs\": 100,\n",
    "                              \"n_iter\": 10000,\n",
    "                              \"nrpa_level\": 3,\n",
    "                              \"nrpa_alpha\": 1},\n",
    "            \"nats_bench\"   : {\"api\": nats_bench_api,\n",
    "                              \"n_runs\": 100,\n",
    "                              \"n_iter\": 4000,\n",
    "                              \"nrpa_level\": 3,\n",
    "                              \"nrpa_alpha\": .1}\n",
    "           }"
   ]
  },
  {
   "cell_type": "markdown",
   "id": "57855776-1eb7-4d57-b8f9-88121f2b14ce",
   "metadata": {},
   "source": [
    "### NAS-Bench-101"
   ]
  },
  {
   "cell_type": "code",
   "execution_count": null,
   "id": "30c16258-6f4d-4502-90d1-77ee8123008c",
   "metadata": {
    "scrolled": true
   },
   "outputs": [],
   "source": [
    "methods = {\"Random search\": [], \n",
    "           \"Regularized evolution\": [], \n",
    "           \"UCT\": [], \n",
    "           \"NRPA\": []}\n",
    "\n",
    "params = datasets[\"nas_bench_101\"]\n",
    "\n",
    "for i in range(params[\"n_runs\"]):\n",
    "    print(f\"RUN N° {i+1}/{params['n_runs']}\")\n",
    "    \n",
    "    rs = RandomSearchNASBench101(api=params[\"api\"],\n",
    "                                 max_iter=params[\"n_iter\"])\n",
    "    \n",
    "    re = RegularizedEvolutionNB101(api=params[\"api\"],\n",
    "                                  population_size=50,\n",
    "                                  cycles=params[\"n_iter\"],\n",
    "                                  sample_size=25)\n",
    "    \n",
    "    root_node_uct = NASBench101Node.NASBench101Node(state=NASBench101Cell(n_vertices=7))\n",
    "    uct = NASBench101UCT(root_node_uct,\n",
    "                         api=params[\"api\"],\n",
    "                         params_path=\"utils/params.json\",\n",
    "                         disable_tqdm=False)\n",
    "    uct.n_iter = params[\"n_iter\"]//(12*uct.playouts_per_selection)\n",
    "    \n",
    "    root_node_nrpa = NASBench101NestedNode(state=NASBench101Cell(n_vertices=7), sequence=[])\n",
    "    nrpa = NASBench101NRPA(root_node_nrpa,\n",
    "                         params[\"nrpa_level\"],\n",
    "                         api=params[\"api\"],\n",
    "                         params_path=\"utils/params.json\",\n",
    "                         disable_tqdm=False)\n",
    "    nrpa.n_iter = int(np.ceil(np.power(params[\"n_iter\"], 1/params[\"nrpa_level\"])))\n",
    "    nrpa.alpha = params[\"nrpa_alpha\"]\n",
    "    \n",
    "    try:\n",
    "        rs.run()\n",
    "        re.run()\n",
    "        _, _, _ = uct.main_loop()\n",
    "        _, _, _ = nrpa.main_loop()\n",
    "    \n",
    "        \n",
    "        methods[\"Random search\"].append(rs.best_accs[1:])\n",
    "        methods[\"Regularized evolution\"].append(re.best_accs[1:])\n",
    "        methods[\"UCT\"].append(uct.best_reward)\n",
    "        methods[\"NRPA\"].append(nrpa.best_reward)\n",
    "        \n",
    "    except Exception: pass\n",
    "\n",
    "    with open(\"runs/NASBench101.json\", \"w+\") as f:\n",
    "        json.dump(methods, f)"
   ]
  },
  {
   "cell_type": "code",
   "execution_count": null,
   "id": "40128faf-47fb-4740-9b44-62e6cd3ba61a",
   "metadata": {},
   "outputs": [],
   "source": [
    "ma = max([len(e) for e in methods[\"UCT\"]])\n",
    "methods[\"UCT\"] = [np.pad(e, (0,ma-len(e)), mode='maximum') for e in methods[\"UCT\"]]"
   ]
  },
  {
   "cell_type": "code",
   "execution_count": null,
   "id": "8208b70e-3b27-4663-94d4-04adf8b62d7b",
   "metadata": {},
   "outputs": [],
   "source": [
    "max_value = max([np.max(e) for e in methods.values()])*100\n",
    "min_value = min(np.quantile(e, 0.003) for e in methods.values())*100\n",
    "ymax = (11*max_value - min_value) / 10"
   ]
  },
  {
   "cell_type": "code",
   "execution_count": null,
   "id": "bbe48c6d-0388-44ac-8991-4559da7dab57",
   "metadata": {},
   "outputs": [],
   "source": [
    "f, ax = plt.subplots(1,1,figsize=(8,6))\n",
    "for name, results in methods.items():\n",
    "    ax.plot(np.mean(results, axis=0)[:datasets[\"nas_bench_101\"][\"n_iter\"]]*100, label=name)\n",
    "plt.ylim([min_value, ymax]); plt.xlim(-datasets[\"nas_bench_101\"][\"n_iter\"]/30, datasets[\"nas_bench_101\"][\"n_iter\"]+(datasets[\"nas_bench_101\"][\"n_iter\"]/30))\n",
    "ax.set_ylabel(\"Accuracy\"); ax.set_xlabel(\"# of network evaluations\")\n",
    "f.suptitle(\"NAS-Bench-101\")\n",
    "ax.legend()\n",
    "plt.tight_layout()\n",
    "# plt.savefig(\"figures/NASBench-101.png\")"
   ]
  },
  {
   "cell_type": "markdown",
   "id": "66e0c974-aebd-45f6-8ae4-d9a5d949a9fd",
   "metadata": {},
   "source": [
    "### NATS-Bench"
   ]
  },
  {
   "cell_type": "code",
   "execution_count": null,
   "id": "9e2b2222-0a52-41f8-80a9-5a7c1b365df9",
   "metadata": {},
   "outputs": [],
   "source": [
    "nats_bench_df = pd.read_csv(\"GOOD_CSV/Cifar10-NATS.csv\")"
   ]
  },
  {
   "cell_type": "code",
   "execution_count": null,
   "id": "7a4dc11a-d5c5-4798-9ac9-f2dd8a7cb481",
   "metadata": {
    "scrolled": true
   },
   "outputs": [],
   "source": [
    "methods = {\"Random search\": [], \n",
    "           \"Regularized evolution\": [], \n",
    "           \"UCT\": [], \n",
    "           \"NRPA\": []}\n",
    "\n",
    "params = datasets[\"nats_bench\"]\n",
    "params[\"nrpa_alpha\"] = 1\n",
    "params[\"nrpa_level\"] = 3\n",
    "\n",
    "for i in range(params[\"n_runs\"]):\n",
    "    print(f\"RUN N° {i+1}/{params['n_runs']}\")\n",
    "    \n",
    "    rs = RandomSearchNats(api=params[\"api\"],\n",
    "                          df=nats_bench_df,\n",
    "                          max_iter=params[\"n_iter\"])\n",
    "    \n",
    "    re = RegularizedEvolutionNATS(api=params[\"api\"],\n",
    "                                  df=nats_bench_df,\n",
    "                                  population_size=50,\n",
    "                                  cycles=params[\"n_iter\"],\n",
    "                                  sample_size=25)\n",
    "    \n",
    "    root_node_uct = NATSBenchSizeNode()\n",
    "    uct = NATSBenchUCT(root_node_uct,\n",
    "                       api=params[\"api\"],\n",
    "                       df=nats_bench_df,\n",
    "                       params_path=\"utils/params.json\",\n",
    "                       disable_tqdm=False)\n",
    "    uct.n_iter = params[\"n_iter\"]//(5*uct.playouts_per_selection)\n",
    "    \n",
    "    root_node_nrpa = NATSBenchSizeNestedNode(sequence=[])\n",
    "    nrpa = NATSBenchNRPA(root_node_nrpa,\n",
    "                         params[\"nrpa_level\"],\n",
    "                         api=params[\"api\"],\n",
    "                         df=nats_bench_df,\n",
    "                         params_path=\"utils/params.json\",\n",
    "                         disable_tqdm=False)\n",
    "    nrpa.n_iter = int(np.ceil(np.power(params[\"n_iter\"], 1/params[\"nrpa_level\"])))\n",
    "    nrpa.alpha = params[\"nrpa_alpha\"]\n",
    "    nrpa.softmax_temp=2\n",
    "    \n",
    "    rs.run()\n",
    "    re.run()\n",
    "    _, _, _ = uct.main_loop()\n",
    "    _, _, _ = nrpa.main_loop()\n",
    "\n",
    "    \n",
    "    methods[\"Random search\"].append(rs.best_accs[1:])\n",
    "    methods[\"Regularized evolution\"].append(re.best_accs[1:])\n",
    "    methods[\"UCT\"].append(uct.best_reward)\n",
    "    methods[\"NRPA\"].append(nrpa.best_reward)"
   ]
  },
  {
   "cell_type": "code",
   "execution_count": null,
   "id": "a780c311-fa88-4377-a614-4dfa56f96fb3",
   "metadata": {},
   "outputs": [],
   "source": [
    "max_value = max([np.max(e) for e in methods.values()])\n",
    "min_value = min(np.quantile(e, 0.005) for e in methods.values())\n",
    "ymax = (11*max_value - min_value) / 10"
   ]
  },
  {
   "cell_type": "code",
   "execution_count": null,
   "id": "93df0b83-fcbe-4ff5-95fa-95feee0400a2",
   "metadata": {},
   "outputs": [],
   "source": [
    "f, ax = plt.subplots(1,1,figsize=(8,6))\n",
    "for name, results in methods.items():\n",
    "    ax.plot(np.mean(results, axis=0)[:datasets[\"nats_bench\"][\"n_iter\"]], label=name)\n",
    "plt.ylim([min_value, ymax]); plt.xlim(-datasets[\"nats_bench\"][\"n_iter\"]/30, datasets[\"nats_bench\"][\"n_iter\"]+(datasets[\"nats_bench\"][\"n_iter\"]/30))\n",
    "ax.set_ylabel(\"Accuracy\"); ax.set_xlabel(\"# of network evaluations\")\n",
    "f.suptitle(\"NATS-Bench\")\n",
    "ax.legend()\n",
    "plt.tight_layout()\n",
    "ax.legend()\n",
    "plt.savefig(\"figures/NATSBench.png\")"
   ]
  },
  {
   "cell_type": "markdown",
   "id": "6e260569-cf91-43c8-971a-fde3315e38ea",
   "metadata": {},
   "source": [
    "### NAS-Bench-201"
   ]
  },
  {
   "cell_type": "code",
   "execution_count": null,
   "id": "afcd66da-152a-4701-8a13-cf26eac98b7e",
   "metadata": {},
   "outputs": [],
   "source": [
    "nas_bench_201_df = pd.read_csv(\"GOOD_CSV/Cifar100-NB201.csv\")"
   ]
  },
  {
   "cell_type": "code",
   "execution_count": null,
   "id": "a8f60524-dece-4be2-a600-f9fdc7d8733a",
   "metadata": {},
   "outputs": [],
   "source": [
    "from search_spaces.nas_bench_201 import NASBench201MCTS\n",
    "importlib.reload(NASBench201MCTS)\n",
    "from search_spaces.nas_bench_201.NASBench201MCTS import *"
   ]
  },
  {
   "cell_type": "code",
   "execution_count": null,
   "id": "6bb6c8f8-21b0-4b6c-9acd-c3a73b684bcd",
   "metadata": {
    "scrolled": true
   },
   "outputs": [],
   "source": [
    "methods = {\"Random search\": [], \n",
    "           \"Regularized evolution\": [], \n",
    "           \"UCT\": [],\n",
    "           \"NRPA\": []}\n",
    "\n",
    "params = datasets[\"nas_bench_201\"]\n",
    "params[\"n_iter\"] = 100\n",
    "\n",
    "\n",
    "for i in range(params[\"n_runs\"]):\n",
    "    print(f\"RUN N° {i+1}/{params['n_runs']}\")\n",
    "    \n",
    "    rs = RandomSearchNB201(api=params[\"api\"],\n",
    "                           df=nas_bench_201_df,\n",
    "                           max_iter=params[\"n_iter\"])\n",
    "    \n",
    "    re =  RegularizedEvolutionNB201(api=params[\"api\"],\n",
    "                                    df=nas_bench_201_df,\n",
    "                                    population_size=50,\n",
    "                                    cycles=params[\"n_iter\"],\n",
    "                                    sample_size=25)\n",
    "    \n",
    "    root_node_uct = NASBench201Node(state=NASBench201Cell(4))\n",
    "    uct = NASBench201UCT(root_node_uct,\n",
    "                         api=params[\"api\"],\n",
    "                         params_path=\"utils/params.json\",\n",
    "                         disable_tqdm=False,\n",
    "                         df=nas_bench_201_df)\n",
    "    uct.n_iter = params[\"n_iter\"]//(6*uct.playouts_per_selection)\n",
    "    \n",
    "    root_node_nrpa = NASBench201NestedNode(state=NASBench201Cell(4), sequence=[])\n",
    "    nrpa = NASBench201NRPA(root_node_nrpa,\n",
    "                           params[\"nrpa_level\"],\n",
    "                           api=params[\"api\"],\n",
    "                           params_path=\"utils/params.json\",\n",
    "                           disable_tqdm=False, \n",
    "                           df=nas_bench_201_df)\n",
    "    nrpa.n_iter = int(np.ceil(np.power(params[\"n_iter\"], 1/params[\"nrpa_level\"])))\n",
    "    nrpa.alpha = params[\"nrpa_alpha\"]\n",
    "    \n",
    "    rs.run()\n",
    "    re.run()\n",
    "    _, _, _ = uct.main_loop()\n",
    "    _, _, _ = nrpa.main_loop()\n",
    "\n",
    "    \n",
    "    methods[\"Random search\"].append(rs.best_accs[1:])\n",
    "    methods[\"Regularized evolution\"].append(re.best_accs[1:])\n",
    "    methods[\"UCT\"].append(uct.best_reward)\n",
    "    methods[\"NRPA\"].append(nrpa.best_reward)\n"
   ]
  },
  {
   "cell_type": "code",
   "execution_count": null,
   "id": "9effce72-e042-4453-8d77-7a778a12d77c",
   "metadata": {},
   "outputs": [],
   "source": [
    "max_value = max([np.max(e) for e in methods.values()])*100\n",
    "min_value = min(np.quantile(e, 0.005) for e in methods.values())*100\n",
    "ymax = (11*max_value - min_value) / 10"
   ]
  },
  {
   "cell_type": "code",
   "execution_count": null,
   "id": "25c6f5fb-1c6a-43c8-b819-272f5c1098c8",
   "metadata": {},
   "outputs": [],
   "source": [
    "f, ax = plt.subplots(1,1,figsize=(8,6))\n",
    "for name, results in methods.items():\n",
    "    ax.plot(np.mean(results, axis=0)[:datasets[\"nas_bench_201\"][\"n_iter\"]]*100, label=name)\n",
    "plt.ylim([min_value, ymax]); plt.xlim(-datasets[\"nas_bench_201\"][\"n_iter\"]/30, datasets[\"nas_bench_201\"][\"n_iter\"]+(datasets[\"nas_bench_201\"][\"n_iter\"]/30))\n",
    "ax.set_ylabel(\"Accuracy\"); ax.set_xlabel(\"# of network evaluations\")\n",
    "f.suptitle(\"NAS-Bench-201\")\n",
    "ax.legend()\n",
    "plt.tight_layout()\n",
    "ax.legend()\n",
    "plt.savefig(\"figures/NAS-Bench-201.png\")"
   ]
  },
  {
   "cell_type": "markdown",
   "id": "b4ec8400-bd47-4cfc-b769-abf5c2846345",
   "metadata": {},
   "source": [
    "### NAS-Bench-301"
   ]
  },
  {
   "cell_type": "code",
   "execution_count": null,
   "id": "b328fbf9-fb03-40e8-b65e-12a832942ed0",
   "metadata": {},
   "outputs": [],
   "source": [
    "from search_spaces.nas_bench_301 import NASBench301RandomSearch\n",
    "importlib.reload(NASBench301RandomSearch)\n",
    "from search_spaces.nas_bench_301.NASBench301RandomSearch import *\n",
    "from search_spaces.nas_bench_301 import NASBench301RegEvo\n",
    "importlib.reload(NASBench301RegEvo)\n",
    "from search_spaces.nas_bench_301.NASBench301RegEvo import *"
   ]
  },
  {
   "cell_type": "code",
   "execution_count": null,
   "id": "6d6ccb92-d2ff-43c9-8b8d-8e74addcc4ef",
   "metadata": {
    "scrolled": true
   },
   "outputs": [],
   "source": [
    "methods = {\n",
    "           \"Random search\": [], \n",
    "           \"Regularized evolution\": [], \n",
    "           \"UCT\": [], \n",
    "           \"NRPA\": []\n",
    "           }\n",
    "\n",
    "params = datasets[\"nas_bench_301\"]\n",
    "params[\"n_iter\"] = 100\n",
    "\n",
    "for i in range(params[\"n_runs\"]):\n",
    "    print(f\"RUN N° {i+1}/{params['n_runs']}\")\n",
    "    \n",
    "    rs = RandomSearchNB301(max_iter=params[\"n_iter\"])\n",
    "    \n",
    "    re =  RegularizedEvolutionNB301(population_size=50,\n",
    "                                    cycles=params[\"n_iter\"],\n",
    "                                    sample_size=25)\n",
    "    \n",
    "    root_node_uct = DARTSNode((DARTSCell(), DARTSCell()))\n",
    "    uct = NASBench301UCT(root_node_uct,\n",
    "                         performance_model=params[\"api\"],\n",
    "                         params_path=\"utils/params.json\",\n",
    "                         disable_tqdm=False)\n",
    "    uct.n_iter = params[\"n_iter\"]//(16*uct.playouts_per_selection)\n",
    "    \n",
    "    \n",
    "    root_node_nrpa = DARTSNestedNode((DARTSCell(), DARTSCell()), sequence=[])\n",
    "    nrpa = NASBench301NRPA(root_node_nrpa,\n",
    "                           params[\"nrpa_level\"],\n",
    "                           params_path=\"utils/params.json\",\n",
    "                           disable_tqdm=False)\n",
    "    nrpa.n_iter = int(np.ceil(np.power(params[\"n_iter\"], 1/params[\"nrpa_level\"])))\n",
    "    nrpa.alpha = params[\"nrpa_alpha\"]\n",
    "    \n",
    "    rs.run()\n",
    "    re.run()\n",
    "    _, _, _ = uct.main_loop()\n",
    "    _, _, _ = nrpa.main_loop()\n",
    "\n",
    "    \n",
    "    methods[\"Random search\"].append(rs.best_accs[1:])\n",
    "    methods[\"Regularized evolution\"].append(re.best_accs[1:])\n",
    "    methods[\"UCT\"].append(uct.best_reward)\n",
    "    methods[\"NRPA\"].append(nrpa.best_reward)\n"
   ]
  },
  {
   "cell_type": "code",
   "execution_count": null,
   "id": "1f0ee3d6-79d8-464e-9d40-65340ba9e483",
   "metadata": {},
   "outputs": [],
   "source": [
    "max_value = max([np.max(e) for e in methods.values()])\n",
    "min_value = min(np.quantile(e, 0.005) for e in methods.values())\n",
    "ymax = (11*max_value - min_value) /10"
   ]
  },
  {
   "cell_type": "code",
   "execution_count": null,
   "id": "ca4d1fd4-496e-4f41-b9d2-d79226d9d1dd",
   "metadata": {},
   "outputs": [],
   "source": [
    "f, ax = plt.subplots(1,1,figsize=(8,6))\n",
    "for name, results in methods.items():\n",
    "    ax.plot(np.mean(results, axis=0)[:datasets[\"nas_bench_301\"][\"n_iter\"]], label=name)\n",
    "plt.ylim([min_value, ymax]); plt.xlim(-datasets[\"nas_bench_301\"][\"n_iter\"]/30, datasets[\"nas_bench_301\"][\"n_iter\"]+(datasets[\"nas_bench_301\"][\"n_iter\"]/30))\n",
    "ax.set_ylabel(\"Accuracy\"); ax.set_xlabel(\"# of network evaluations\")\n",
    "f.suptitle(\"NAS-Bench-301\")\n",
    "ax.legend()\n",
    "plt.tight_layout()\n",
    "ax.legend()"
   ]
  },
  {
   "cell_type": "markdown",
   "id": "968bd6c5-07b0-42ab-988f-08a89ffff675",
   "metadata": {},
   "source": [
    "## MONET : Combining **Mo**nte-Carlo with **Ne**ural **T**angent Kernel"
   ]
  },
  {
   "cell_type": "markdown",
   "id": "5608ea16-65a2-477c-a001-5fd92976a408",
   "metadata": {},
   "source": [
    "### On NAS-Bench-201"
   ]
  },
  {
   "cell_type": "code",
   "execution_count": null,
   "id": "2241eb3d-9f5c-4953-bb06-40d8b592ac13",
   "metadata": {},
   "outputs": [],
   "source": [
    "from nas_bench_201 import NASBench201MCTS\n",
    "importlib.reload(NASBench201MCTS)\n",
    "from nas_bench_201.NASBench201MCTS import *"
   ]
  },
  {
   "cell_type": "code",
   "execution_count": null,
   "id": "cf85b384-7999-4b50-a464-b3824fcd9f89",
   "metadata": {},
   "outputs": [],
   "source": [
    "nas_bench_201_df = pd.read_csv(\"GOOD_CSV/Cifar10-NB201.csv\")"
   ]
  },
  {
   "cell_type": "code",
   "execution_count": null,
   "id": "eb07a4f9-d17f-488e-9b4c-2ea106f78425",
   "metadata": {
    "scrolled": true
   },
   "outputs": [],
   "source": [
    "params = datasets[\"nas_bench_201\"]\n",
    "accs_ntk_nb201 = []\n",
    "ntks_ntk_nb201 = []\n",
    "for i in range(params[\"n_runs\"]):\n",
    "    print(f\"Run {i+1} / {params['n_runs']}\")\n",
    "\n",
    "    root_node_nrpa = NASBench201NestedNode(state=NASBench201Cell(4), sequence=[])\n",
    "    nrpa = NASBench201NRPA(root_node_nrpa,\n",
    "                           params[\"nrpa_level\"],\n",
    "                           api=params[\"api\"],\n",
    "                           params_path=\"utils/params.json\",\n",
    "                           disable_tqdm=False, \n",
    "                           df=nas_bench_201_df)\n",
    "    nrpa.n_iter = int(np.ceil(np.power(params[\"n_iter\"], 1/params[\"nrpa_level\"])))\n",
    "    nrpa.alpha = params[\"nrpa_alpha\"]\n",
    "    nrpa.metric = \"score\"\n",
    "    a, b, c = nrpa.main_loop()\n",
    "    accs_ntk_nb201.append(nrpa.accuracies_tracker)\n",
    "    ntks_ntk_nb201.append(nrpa.best_reward)"
   ]
  },
  {
   "cell_type": "code",
   "execution_count": null,
   "id": "d593cc88-ceb2-4ada-a291-75165647a047",
   "metadata": {
    "collapsed": true,
    "jupyter": {
     "outputs_hidden": true,
     "source_hidden": true
    }
   },
   "outputs": [],
   "source": [
    "f, ax1 = plt.subplots()\n",
    "ax1.plot(normalize(np.mean(np.array(ntks_nasi), axis=0)), label=\"NTK Metric\", color=\"#3d405b\")\n",
    "ax1.set_ylabel(\"NTK Metric\")\n",
    "\n",
    "ax2 = ax1.twinx()\n",
    "ax2.plot(np.mean(np.array(accs_nasi), axis=0), label=\"Accuracy\", color=\"#e07a5f\")\n",
    "ax2.set_ylabel(\"CIFAR-100 accuracy\")\n",
    "\n",
    "plt.title(\"Evolution of the best architecture reward \\n NTK Score\"); plt.xlabel(\"Iteration\"); plt.ylabel(\"CIFAR-100 accuracy\"); \n",
    "plt.legend();\n",
    "# plt.ylim([0.56,0.62]);\n",
    "plt.savefig(\"figures/search_nrpa_nasi_nb201.png\")\n",
    "plt.show()"
   ]
  },
  {
   "cell_type": "code",
   "execution_count": null,
   "id": "b192c147-e25b-4a2b-b3cb-eee57ab160e7",
   "metadata": {},
   "outputs": [],
   "source": [
    "f, ax = plt.subplots(1,3, figsize=(15,5))\n",
    "#MONET \n",
    "ax[0].plot(normalize(np.mean(np.array(ntks_ntk_nb201), axis=0)), label=\"NTK Metric\", color=sns.color_palette()[0])\n",
    "ax[0].set_ylabel(\"NTK Metric\")\n",
    "\n",
    "ax0 = ax[0].twinx()\n",
    "ax0.plot(np.mean(np.array(accs_ntk_nb201), axis=0), label=\"Accuracy\", color=sns.color_palette()[1])\n",
    "\n",
    "# NASI\n",
    "ax[1].plot(normalize(np.mean(np.array(ntks_nasi_nb201), axis=0)), label=\"NTK Metric\", color=sns.color_palette()[0])\n",
    "\n",
    "ax1 = ax[1].twinx()\n",
    "ax1.plot(np.mean(np.array(accs_nasi_nb201), axis=0), label=\"Accuracy\", color=sns.color_palette()[1])\n",
    "\n",
    "# NASWOT\n",
    "ax[2].plot(normalize(np.mean(np.array(ntks_synflow_nb201), axis=0)), label=\"NTK Metric\", color=sns.color_palette()[0])\n",
    "\n",
    "ax2 = ax[2].twinx()\n",
    "ax2.plot(np.mean(np.array(accs_synflow_nb201), axis=0), label=\"Accuracy\", color=sns.color_palette()[1])\n",
    "ax2.set_ylabel(\"CIFAR-100 accuracy\")\n",
    "\n",
    "ax[0].set_ylabel(\"Training-free metric\"); ax[1].set_ylabel(\"\"), ax[2].set_ylabel(\"\"); ax2.set_ylabel(\"Accuracy\")\n",
    "ax[0].set_title(\"MONET\"); ax[1].set_title(\"NASI\"); ax[2].set_title(\"SynFlow\")\n",
    "\n",
    "ax[0].set_xlabel(\"# of network evaluations\"); ax[1].set_xlabel(\"# of network evaluations\"), ax[2].set_xlabel(\"# of network evaluations\")\n",
    "ax0.set_ylim([0.71, 0.9]); ax1.set_ylim([0.71, 0.9]); ax2.set_ylim([0.71, 0.9])\n",
    "# ax0.set_yticks([]); ax1.set_yticks([])\n",
    "# ax[1].set_yticks([]); ax[2].set_yticks([])\n",
    "f.suptitle(\"Training-free achitecture search - NAS-Bench-201\")\n",
    "plt.tight_layout()\n",
    "plt.savefig(\"figures/search_monet_vs_gradient_nb201.png\")\n",
    "plt.show()"
   ]
  },
  {
   "cell_type": "markdown",
   "id": "960c2b22-115b-4aa3-b54c-d873ddc83c3c",
   "metadata": {},
   "source": [
    "### On NATS-Bench"
   ]
  },
  {
   "cell_type": "code",
   "execution_count": null,
   "id": "1dc47b12-775e-4fe5-8077-62fdf442e101",
   "metadata": {},
   "outputs": [],
   "source": [
    "from nats_bench_dataset import NATSBenchMCTS\n",
    "from nats_bench_dataset import NATSBenchNode\n",
    "importlib.reload(NATSBenchMCTS)\n",
    "importlib.reload(NATSBenchNode)\n",
    "from nats_bench_dataset.NATSBenchMCTS import *\n",
    "from nats_bench_dataset.NATSBenchNode import *"
   ]
  },
  {
   "cell_type": "code",
   "execution_count": null,
   "id": "8d26e011-412c-4a4e-8cb0-a16b1a3d25be",
   "metadata": {},
   "outputs": [],
   "source": [
    "datasets[\"nats_bench\"][\"n_runs\"]  = 100"
   ]
  },
  {
   "cell_type": "code",
   "execution_count": null,
   "id": "e0426a62-e9b5-4173-a2bb-6bdb8f308718",
   "metadata": {
    "scrolled": true
   },
   "outputs": [],
   "source": [
    "nats_bench_df = pd.read_csv(\"GOOD_CSV/Cifar10-NATS.csv\")\n",
    "params = datasets[\"nats_bench\"]\n",
    "accs_synflow = []\n",
    "ntks_synflow = []\n",
    "for i in range(params[\"n_runs\"]):\n",
    "    print(f\"Run {i+1} / {params['n_runs']}\")\n",
    "\n",
    "    root_node_nrpa = NATSBenchSizeNestedNode(sequence=[])\n",
    "    nrpa = NATSBenchNRPA(root_node_nrpa,\n",
    "                         params[\"nrpa_level\"],\n",
    "                         api=params[\"api\"],\n",
    "                         df=nats_bench_df,\n",
    "                         params_path=\"utils/params.json\",\n",
    "                         disable_tqdm=False)\n",
    "    nrpa.n_iter = int(np.ceil(np.power(params[\"n_iter\"], 1/params[\"nrpa_level\"])))\n",
    "    nrpa.alpha = params[\"nrpa_alpha\"]\n",
    "    nrpa.softmax_temp=2\n",
    "    nrpa.metric = \"score_synflow\"\n",
    "    a, b, c = nrpa.main_loop()\n",
    "    accs_synflow.append(nrpa.accuracies_tracker)\n",
    "    ntks_synflow.append(nrpa.best_reward)"
   ]
  },
  {
   "cell_type": "code",
   "execution_count": null,
   "id": "cd5d5dc7-84fd-4ee0-90ac-98221301f34c",
   "metadata": {
    "collapsed": true,
    "jupyter": {
     "outputs_hidden": true,
     "source_hidden": true
    }
   },
   "outputs": [],
   "source": [
    "f, ax1 = plt.subplots()\n",
    "ax1.plot(normalize(np.mean(np.array(ntks_synflow), axis=0)), label=\"NTK Metric\", color=\"#3d405b\")\n",
    "ax1.set_ylabel(\"NTK Metric\")\n",
    "\n",
    "ax2 = ax1.twinx()\n",
    "ax2.plot(np.mean(np.array(accs_synflow), axis=0), label=\"Accuracy\", color=\"#e07a5f\")\n",
    "ax2.set_ylabel(\"CIFAR-100 accuracy\")\n",
    "\n",
    "plt.title(\"Evolution of the best architecture reward \\n SynFlow Score\"); plt.xlabel(\"Iteration\"); plt.ylabel(\"CIFAR-10 accuracy\"); \n",
    "plt.legend();\n",
    "\n",
    "plt.xlim([-20,800])\n",
    "plt.savefig(\"figures/search_nrpa_synflow_nats.png\")\n",
    "plt.show()"
   ]
  },
  {
   "cell_type": "code",
   "execution_count": null,
   "id": "2b296396-e075-44b8-9da1-85035aef5915",
   "metadata": {
    "scrolled": true
   },
   "outputs": [],
   "source": [
    "nats_bench_df = pd.read_csv(\"GOOD_CSV/Cifar10-NATS.csv\")\n",
    "params = datasets[\"nats_bench\"]\n",
    "accs_ntk = []\n",
    "ntks_ntk = []\n",
    "for i in range(params[\"n_runs\"]):\n",
    "    print(f\"Run {i+1} / {params['n_runs']}\")\n",
    "\n",
    "    root_node_nrpa = NATSBenchSizeNestedNode(sequence=[])\n",
    "    nrpa = NATSBenchNRPA(root_node_nrpa,\n",
    "                         params[\"nrpa_level\"],\n",
    "                         api=params[\"api\"],\n",
    "                         df=nats_bench_df,\n",
    "                         params_path=\"utils/params.json\",\n",
    "                         disable_tqdm=False)\n",
    "    nrpa.n_iter = int(np.ceil(np.power(params[\"n_iter\"], 1/params[\"nrpa_level\"])))\n",
    "    nrpa.alpha = params[\"nrpa_alpha\"]\n",
    "    nrpa.softmax_temp=2\n",
    "    nrpa.metric = \"score\"\n",
    "    a, b, c = nrpa.main_loop()\n",
    "    accs_ntk.append(nrpa.accuracies_tracker)\n",
    "    ntks_ntk.append(nrpa.best_reward)"
   ]
  },
  {
   "cell_type": "code",
   "execution_count": null,
   "id": "a78fe617-0c34-45e7-82e7-b714f465dfce",
   "metadata": {
    "collapsed": true,
    "jupyter": {
     "outputs_hidden": true,
     "source_hidden": true
    }
   },
   "outputs": [],
   "source": [
    "f, ax1 = plt.subplots()\n",
    "ax1.plot(normalize(np.mean(np.array(ntks_ntk), axis=0)), label=\"NTK Metric\", color=\"#3d405b\")\n",
    "ax1.set_ylabel(\"NTK Metric\")\n",
    "\n",
    "ax2 = ax1.twinx()\n",
    "ax2.plot(np.mean(np.array(accs_ntk), axis=0), label=\"Accuracy\", color=\"#e07a5f\")\n",
    "ax2.set_ylabel(\"CIFAR-100 accuracy\")\n",
    "\n",
    "plt.title(\"Evolution of the best architecture reward \\n NTK Score\"); plt.xlabel(\"Iteration\"); plt.ylabel(\"CIFAR-10 accuracy\"); \n",
    "plt.legend();\n",
    "\n",
    "plt.xlim([-20,800])\n",
    "plt.savefig(\"figures/search_nrpa_ntk_nats.png\")\n",
    "plt.show()"
   ]
  },
  {
   "cell_type": "code",
   "execution_count": null,
   "id": "091cc257-b8d7-4a8b-b0c8-30931c37d906",
   "metadata": {
    "scrolled": true
   },
   "outputs": [],
   "source": [
    "nats_bench_df = pd.read_csv(\"GOOD_CSV/Cifar10-NATS.csv\")\n",
    "params = datasets[\"nats_bench\"]\n",
    "accs_nasi = []\n",
    "ntks_nasi = []\n",
    "for i in range(params[\"n_runs\"]):\n",
    "    print(f\"Run {i+1} / {params['n_runs']}\")\n",
    "\n",
    "    root_node_nrpa = NATSBenchSizeNestedNode(sequence=[])\n",
    "    nrpa = NATSBenchNRPA(root_node_nrpa,\n",
    "                         params[\"nrpa_level\"],\n",
    "                         api=params[\"api\"],\n",
    "                         df=nats_bench_df,\n",
    "                         params_path=\"utils/params.json\",\n",
    "                         disable_tqdm=False)\n",
    "    nrpa.n_iter = int(np.ceil(np.power(params[\"n_iter\"], 1/params[\"nrpa_level\"])))\n",
    "    nrpa.alpha = params[\"nrpa_alpha\"]\n",
    "    nrpa.softmax_temp=2\n",
    "    nrpa.metric = \"score_nasi\"\n",
    "    a, b, c = nrpa.main_loop()\n",
    "    accs_nasi.append(nrpa.accuracies_tracker)\n",
    "    ntks_nasi.append(nrpa.best_reward)"
   ]
  },
  {
   "cell_type": "code",
   "execution_count": null,
   "id": "bc0947ca-212a-476a-a080-47c70db97ccb",
   "metadata": {
    "collapsed": true,
    "jupyter": {
     "outputs_hidden": true,
     "source_hidden": true
    }
   },
   "outputs": [],
   "source": [
    "f, ax1 = plt.subplots()\n",
    "ax1.plot(normalize(np.mean(np.array(ntks_nasi), axis=0)), label=\"NTK Metric\", color=\"#3d405b\")\n",
    "ax1.set_ylabel(\"NTK Metric\")\n",
    "\n",
    "ax2 = ax1.twinx()\n",
    "ax2.plot(np.mean(np.array(accs_nasi), axis=0), label=\"Accuracy\", color=\"#e07a5f\")\n",
    "ax2.set_ylabel(\"CIFAR-100 accuracy\")\n",
    "\n",
    "plt.title(\"Evolution of the best architecture reward \\n NTK Score\"); plt.xlabel(\"Iteration\"); plt.ylabel(\"CIFAR-10 accuracy\"); \n",
    "plt.legend();\n",
    "\n",
    "plt.xlim([-20,800])\n",
    "plt.savefig(\"figures/search_nrpa_nasi_nats.png\")\n",
    "plt.show()"
   ]
  },
  {
   "cell_type": "code",
   "execution_count": null,
   "id": "7fd02410-fcab-42d6-a7af-be5653a1141e",
   "metadata": {},
   "outputs": [],
   "source": [
    "f, ax = plt.subplots(1,3, figsize=(15,5))\n",
    "#MONET \n",
    "ax[0].plot(normalize(np.mean(np.array(ntks_ntk), axis=0)), label=\"NTK Metric\", color=sns.color_palette()[0])\n",
    "ax[0].set_ylabel(\"NTK Metric\")\n",
    "\n",
    "ax0 = ax[0].twinx()\n",
    "ax0.plot(np.mean(np.array(accs_ntk), axis=0), label=\"Accuracy\", color=sns.color_palette()[1])\n",
    "\n",
    "# NASI\n",
    "ax[1].plot(normalize(np.mean(np.array(ntks_nasi), axis=0)), label=\"NTK Metric\", color=sns.color_palette()[0])\n",
    "\n",
    "ax1 = ax[1].twinx()\n",
    "ax1.plot(np.mean(np.array(accs_nasi), axis=0), label=\"Accuracy\", color=sns.color_palette()[1])\n",
    "\n",
    "# NASWOT\n",
    "ax[2].plot(normalize(np.mean(np.array(ntks_synflow), axis=0)), label=\"NTK Metric\", color=sns.color_palette()[0])\n",
    "\n",
    "ax2 = ax[2].twinx()\n",
    "ax2.plot(np.mean(np.array(accs_synflow), axis=0), label=\"Accuracy\", color=sns.color_palette()[1])\n",
    "ax2.set_ylabel(\"CIFAR-100 accuracy\")\n",
    "\n",
    "ax[0].set_ylabel(\"NTK Metric\"); ax[1].set_ylabel(\"\"), ax[2].set_ylabel(\"\"); ax2.set_ylabel(\"Accuracy\")\n",
    "ax[0].set_title(\"MONET\"); ax[1].set_title(\"NASI\"); ax[2].set_title(\"SynFlow\")\n",
    "\n",
    "ax[0].set_xlabel(\"# of network evaluations\"); ax[1].set_xlabel(\"# of network evaluations\"), ax[2].set_xlabel(\"# of network evaluations\")\n",
    "ax0.set_ylim([90, 93.5]); ax1.set_ylim([90, 93.5]); ax2.set_ylim([90, 93.5])\n",
    "# ax0.set_yticks([]); ax1.set_yticks([])\n",
    "# ax[1].set_yticks([]); ax[2].set_yticks([])\n",
    "f.suptitle(\"Training-free achitecture search - NATS\")\n",
    "plt.tight_layout()\n",
    "plt.savefig(\"figures/search_monet_vs_gradient_nats.png\")\n",
    "plt.show()"
   ]
  },
  {
   "cell_type": "markdown",
   "id": "e9e0a945-31fe-4225-8b0d-7c7e55785f99",
   "metadata": {},
   "source": [
    "## NRPA vs Permutation NRPA"
   ]
  },
  {
   "cell_type": "markdown",
   "id": "6843df0c-6011-4265-84a4-aa7538c827aa",
   "metadata": {},
   "source": [
    "### On NAS-Bench-201"
   ]
  },
  {
   "cell_type": "code",
   "execution_count": null,
   "id": "4c7d6903-927a-456c-82d9-7ca3c01df4fe",
   "metadata": {},
   "outputs": [],
   "source": [
    "class NoPermutation201NRPA(NASBench201NRPA):\n",
    "\n",
    "    def __init__(self, root_node: NASBench201NestedNode, level, api, save_folder=None, params_path=None,\n",
    "                 disable_tqdm=False, df=None):\n",
    "        super().__init__(root_node, level, api, save_folder, params_path,\n",
    "                 disable_tqdm, df)\n",
    "\n",
    "    def _code(self, node, move):\n",
    "\n",
    "        if move == None:\n",
    "            ### SEULEMENT POUR LA RACINE DE L'ARBRE A PRIORI\n",
    "            return node.hash\n",
    "\n",
    "        state_code = node.hash\n",
    "        code = str(state_code) \n",
    "        for i in range(len(move)):\n",
    "            code = code + str(move[i])\n",
    "\n",
    "        return code"
   ]
  },
  {
   "cell_type": "code",
   "execution_count": null,
   "id": "b623f89c-78c1-481f-8f5e-b5cc0ac6d267",
   "metadata": {},
   "outputs": [],
   "source": [
    "methods = {\"NRPA\": [],\n",
    "           \"Permutation NRPA\": []}\n",
    "\n",
    "params = datasets[\"nas_bench_201\"]\n",
    "params[\"n_runs\"] = 10\n",
    "params[\"n_iter\"] = 1000\n",
    "\n",
    "for i in range(params[\"n_runs\"]):\n",
    "    print(f\"RUN N° {i+1}/{params['n_runs']}\")\n",
    "    \n",
    "    root_node_nrpa = NASBench201NestedNode(state=NASBench201Cell(4), sequence=[])\n",
    "    nrpa = NASBench201NRPA(root_node_nrpa,\n",
    "                           params[\"nrpa_level\"],\n",
    "                           api=params[\"api\"],\n",
    "                           params_path=\"utils/params.json\",\n",
    "                           disable_tqdm=False, \n",
    "                           df=nas_bench_201_df)\n",
    "    nrpa.n_iter = int(np.ceil(np.power(params[\"n_iter\"], 1/params[\"nrpa_level\"])))\n",
    "    nrpa.alpha = params[\"nrpa_alpha\"]\n",
    "    \n",
    "    root_node_nonrpa = NASBench201NestedNode(state=NASBench201Cell(4), sequence=[])\n",
    "    nonrpa = NoPermutation201NRPA(root_node_nonrpa,\n",
    "                           params[\"nrpa_level\"],\n",
    "                           api=params[\"api\"],\n",
    "                           params_path=\"utils/params.json\",\n",
    "                           disable_tqdm=False, \n",
    "                           df=nas_bench_201_df)\n",
    "    nonrpa.n_iter = int(np.ceil(np.power(params[\"n_iter\"], 1/params[\"nrpa_level\"])))\n",
    "    nonrpa.alpha = params[\"nrpa_alpha\"]\n",
    "    \n",
    "    \n",
    "    _, _, _ = nrpa.main_loop()\n",
    "    _, _, _ = nonrpa.main_loop()\n",
    "    \n",
    "    methods[\"NRPA\"].append(nonrpa.best_reward)\n",
    "    methods[\"Permutation NRPA\"].append(nrpa.best_reward)"
   ]
  },
  {
   "cell_type": "code",
   "execution_count": null,
   "id": "d892d9f6-f009-4f3e-9999-3c66e743e4eb",
   "metadata": {},
   "outputs": [],
   "source": [
    "f, ax = plt.subplots(1,1,figsize=(8,6))\n",
    "for name, results in methods.items():\n",
    "    ax.plot(np.mean(results, axis=0)[:datasets[\"nas_bench_201\"][\"n_iter\"]], label=name)\n",
    "plt.xlim(-datasets[\"nas_bench_201\"][\"n_iter\"]/30, datasets[\"nas_bench_201\"][\"n_iter\"]+(datasets[\"nas_bench_201\"][\"n_iter\"]/30))\n",
    "ax.set_ylabel(\"Accuracy\"); ax.set_xlabel(\"# of network evaluations\")\n",
    "f.suptitle(\"NAS-Bench-201\")\n",
    "ax.legend()\n",
    "plt.tight_layout()\n",
    "ax.legend()"
   ]
  },
  {
   "cell_type": "markdown",
   "id": "3eee8bd1-cc92-42b4-a60c-dc8decb26176",
   "metadata": {},
   "source": [
    "### On NAS-Bench-301"
   ]
  },
  {
   "cell_type": "code",
   "execution_count": null,
   "id": "845a9dae-1357-4d8f-b6e5-9e5ae721f495",
   "metadata": {},
   "outputs": [],
   "source": [
    "class NoPermutation301NRPA(NASBench301NRPA):\n",
    "\n",
    "    def __init__(self, root_node: DARTSNestedNode, level, save_folder=None, params_path=None,\n",
    "                 disable_tqdm=False):\n",
    "        super().__init__(root_node, level, save_folder, params_path,\n",
    "                 disable_tqdm)\n",
    "\n",
    "    def _code(self, node, move):\n",
    "\n",
    "        if move == None:\n",
    "            ### SEULEMENT POUR LA RACINE DE L'ARBRE A PRIORI\n",
    "            return node.hash\n",
    "\n",
    "        state_code = node.hash\n",
    "        code = str(state_code) \n",
    "        for i in range(len(move)):\n",
    "            code = code + str(move[i])\n",
    "\n",
    "        return code"
   ]
  },
  {
   "cell_type": "code",
   "execution_count": null,
   "id": "67e2c53a-cc2d-4a1c-b951-7bcf5b746e78",
   "metadata": {
    "scrolled": true
   },
   "outputs": [],
   "source": [
    "methods = {\"NRPA\": [],\n",
    "           \"Permutation NRPA\": []}\n",
    "\n",
    "params = datasets[\"nas_bench_301\"]\n",
    "\n",
    "for i in range(params[\"n_runs\"]):\n",
    "    print(f\"RUN N° {i+1}/{params['n_runs']}\")\n",
    "    \n",
    "    root_node_nrpa = DARTSNestedNode((DARTSCell(), DARTSCell()), sequence=[])\n",
    "    nrpa = NASBench301NRPA(root_node_nrpa,\n",
    "                           params[\"nrpa_level\"],\n",
    "                           params_path=\"utils/params.json\",\n",
    "                           disable_tqdm=False)\n",
    "    nrpa.n_iter = int(np.ceil(np.power(params[\"n_iter\"], 1/params[\"nrpa_level\"])))\n",
    "    nrpa.alpha = params[\"nrpa_alpha\"]\n",
    "    \n",
    "    root_node_nonrpa = DARTSNestedNode((DARTSCell(), DARTSCell()), sequence=[])\n",
    "    nonrpa = NoPermutation301NRPA(root_node_nonrpa,\n",
    "                           params[\"nrpa_level\"],\n",
    "                           params_path=\"utils/params.json\",\n",
    "                           disable_tqdm=False)\n",
    "    nonrpa.n_iter = int(np.ceil(np.power(params[\"n_iter\"], 1/params[\"nrpa_level\"])))\n",
    "    nonrpa.alpha = params[\"nrpa_alpha\"]\n",
    "    \n",
    "    \n",
    "    _, _, _ = nrpa.main_loop()\n",
    "    _, _, _ = nonrpa.main_loop()\n",
    "    \n",
    "    methods[\"NRPA\"].append(nonrpa.best_reward)\n",
    "    methods[\"Permutation NRPA\"].append(nrpa.best_reward)\n",
    "    "
   ]
  },
  {
   "cell_type": "code",
   "execution_count": null,
   "id": "71cc5226-5c69-4a7c-a978-01c57842903e",
   "metadata": {},
   "outputs": [],
   "source": [
    "f, ax = plt.subplots(1,1,figsize=(8,6))\n",
    "for name, results in methods.items():\n",
    "    ax.plot(np.mean(results, axis=0)[:datasets[\"nas_bench_201\"][\"n_iter\"]], label=name)\n",
    "plt.xlim(-datasets[\"nas_bench_201\"][\"n_iter\"]/30, datasets[\"nas_bench_201\"][\"n_iter\"]+(datasets[\"nas_bench_201\"][\"n_iter\"]/30))\n",
    "ax.set_ylabel(\"Accuracy\"); ax.set_xlabel(\"# of network evaluations\")\n",
    "f.suptitle(\"NAS-Bench-301\")\n",
    "ax.legend()\n",
    "plt.tight_layout()\n",
    "ax.legend()"
   ]
  },
  {
   "cell_type": "markdown",
   "id": "a8b083fe-3454-4a6e-bab2-ba22a96be8ca",
   "metadata": {},
   "source": [
    "### On NATS-Bench"
   ]
  },
  {
   "cell_type": "code",
   "execution_count": null,
   "id": "a5d7d80d-4054-4f13-92f4-91a9d1e1187e",
   "metadata": {},
   "outputs": [],
   "source": [
    "class NoPermutationNATSNRPA(NATSBenchNRPA):\n",
    "\n",
    "    def __init__(self, root_node: NATSBenchSizeNestedNode, level, api, save_folder=None, params_path=None,\n",
    "                 disable_tqdm=False, df=None):\n",
    "        super().__init__(root_node, level, api, save_folder, params_path,\n",
    "                 disable_tqdm, df)\n",
    "\n",
    "    def _code(self, node, move):\n",
    "\n",
    "        if move == None:\n",
    "            ### SEULEMENT POUR LA RACINE DE L'ARBRE A PRIORI\n",
    "            return node.hash\n",
    "\n",
    "        state_code = node.hash\n",
    "        code = str(state_code) \n",
    "        for i in range(len(move)):\n",
    "            code = code + str(move[i])\n",
    "\n",
    "        return code"
   ]
  },
  {
   "cell_type": "code",
   "execution_count": null,
   "id": "8a554a34-74ca-47ca-97eb-409bdbadb03b",
   "metadata": {
    "scrolled": true
   },
   "outputs": [],
   "source": [
    "methods = {\"NRPA\": [],\n",
    "           \"Permutation NRPA\": []}\n",
    "\n",
    "params = datasets[\"nats_bench\"]\n",
    "params[\"n_runs\"] = 20\n",
    "params[\"n_iter\"] = 1000\n",
    "\n",
    "for i in range(params[\"n_runs\"]):\n",
    "    print(f\"RUN N° {i+1}/{params['n_runs']}\")\n",
    "    \n",
    "    root_node_nrpa = NATSBenchSizeNestedNode(sequence=[])\n",
    "    nrpa = NATSBenchNRPA(root_node_nrpa,\n",
    "                         params[\"nrpa_level\"],\n",
    "                         api=params[\"api\"],\n",
    "                         df=nats_bench_df,\n",
    "                         params_path=\"utils/params.json\",\n",
    "                         disable_tqdm=False)\n",
    "    nrpa.n_iter = int(np.ceil(np.power(params[\"n_iter\"], 1/params[\"nrpa_level\"])))\n",
    "    nrpa.alpha = params[\"nrpa_alpha\"]\n",
    "    \n",
    "    root_node_nonrpa = NATSBenchSizeNestedNode(sequence=[])\n",
    "    nonrpa = NATSBenchNRPA(root_node_nonrpa,\n",
    "                         params[\"nrpa_level\"],\n",
    "                         api=params[\"api\"],\n",
    "                         df=nats_bench_df,\n",
    "                         params_path=\"utils/params.json\",\n",
    "                         disable_tqdm=False)\n",
    "    nonrpa.n_iter = int(np.ceil(np.power(params[\"n_iter\"], 1/params[\"nrpa_level\"])))\n",
    "    nonrpa.alpha = params[\"nrpa_alpha\"]\n",
    "    \n",
    "    \n",
    "    _, _, _ = nrpa.main_loop()\n",
    "    _, _, _ = nonrpa.main_loop()\n",
    "    \n",
    "    methods[\"NRPA\"].append(nonrpa.best_reward)\n",
    "    methods[\"Permutation NRPA\"].append(nrpa.best_reward)\n",
    "    "
   ]
  },
  {
   "cell_type": "code",
   "execution_count": null,
   "id": "8746885b-7d36-4606-a328-8e4d648cd4ea",
   "metadata": {},
   "outputs": [],
   "source": [
    "f, ax = plt.subplots(1,1,figsize=(8,6))\n",
    "for name, results in methods.items():\n",
    "    ax.plot(np.mean(results, axis=0)[:datasets[\"nats_bench\"][\"n_iter\"]], label=name)\n",
    "plt.xlim(-datasets[\"nats_bench\"][\"n_iter\"]/30, datasets[\"nats_bench\"][\"n_iter\"]+(datasets[\"nats_bench\"][\"n_iter\"]/30))\n",
    "ax.set_ylabel(\"Accuracy\"); ax.set_xlabel(\"# of network evaluations\")\n",
    "f.suptitle(\"NATS-Bench\")\n",
    "ax.legend()\n",
    "plt.tight_layout()\n",
    "ax.legend()"
   ]
  },
  {
   "cell_type": "code",
   "execution_count": null,
   "id": "95602055-86b4-48fc-9025-1bc701882681",
   "metadata": {},
   "outputs": [],
   "source": []
  }
 ],
 "metadata": {
  "kernelspec": {
   "display_name": "Python 3 (ipykernel)",
   "language": "python",
   "name": "python3"
  },
  "language_info": {
   "codemirror_mode": {
    "name": "ipython",
    "version": 3
   },
   "file_extension": ".py",
   "mimetype": "text/x-python",
   "name": "python",
   "nbconvert_exporter": "python",
   "pygments_lexer": "ipython3",
   "version": "3.8.3"
  }
 },
 "nbformat": 4,
 "nbformat_minor": 5
}
