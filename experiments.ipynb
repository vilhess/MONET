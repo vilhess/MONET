{
 "cells": [
  {
   "cell_type": "markdown",
   "id": "622b38e3-273c-49a4-ac5f-29b0ab6e87c9",
   "metadata": {},
   "source": [
    "# Improving Training-Free Neural Architecture Search using NRPA and NTK\n",
    "\n",
    "In this notebook, we design several experiments aimed at evaluating two innovative NAS methods:\n",
    "\n",
    "- A more efficient **search algorithm**, NRPA, that leverages Monte-Carlo playouts\n",
    "- A more robust **training-free metric** based on the NTK\n",
    "\n",
    "We conduct these experiments on the following NAS benchmark datasets:\n",
    "- NAS-Bench-101\n",
    "- NAS-Bench-201\n",
    "- NAS-Bench-301\n",
    "- NATS-Bench Size"
   ]
  },
  {
   "cell_type": "markdown",
   "id": "4063a091-3e1e-457f-a81f-f50169a78923",
   "metadata": {},
   "source": [
    "## Imports"
   ]
  },
  {
   "cell_type": "markdown",
   "id": "4936b7dc-5346-4226-b80c-e3517a5c56ae",
   "metadata": {},
   "source": [
    "### Importing basic libraries"
   ]
  },
  {
   "cell_type": "code",
   "execution_count": 1,
   "id": "8b5bc026-4d49-429c-9d43-f530bb7ca19f",
   "metadata": {},
   "outputs": [],
   "source": [
    "import numpy as np\n",
    "import matplotlib.pyplot as plt\n",
    "import seaborn as sns\n",
    "import pandas as pd\n",
    "import time\n",
    "import json\n",
    "from utils.helpers import configure_seaborn, normalize\n",
    "import importlib\n",
    "configure_seaborn()\n",
    "from scipy.stats import spearmanr\n",
    "import os"
   ]
  },
  {
   "cell_type": "code",
   "execution_count": 2,
   "id": "ea2a5ce7-2d8d-44a7-aadc-108949788e3f",
   "metadata": {},
   "outputs": [
    {
     "name": "stdout",
     "output_type": "stream",
     "text": [
      "WARNING:tensorflow:From /Users/samy/anaconda3/lib/python3.11/site-packages/tensorflow/python/compat/v2_compat.py:98: disable_resource_variables (from tensorflow.python.ops.resource_variables_toggle) is deprecated and will be removed in a future version.\n",
      "Instructions for updating:\n",
      "non-resource variables are not supported in the long term\n"
     ]
    }
   ],
   "source": [
    "from nasbench import api  # NB101\n",
    "from nas_201_api import NASBench201API as API  # NB201\n",
    "# import nasbench301 as nb  # NB301\n",
    "import nats_bench  # NATS"
   ]
  },
  {
   "cell_type": "markdown",
   "id": "ad3da0ae-9e7e-44e7-9c44-48f074111b71",
   "metadata": {},
   "source": [
    "### Importing our libraries"
   ]
  },
  {
   "cell_type": "code",
   "execution_count": 3,
   "id": "42fdf893-32d4-4044-bed8-27fd5173af8d",
   "metadata": {},
   "outputs": [],
   "source": [
    "# NAS-Bench-101\n",
    "from search_spaces.nas_bench_101.NASBench101Node import *\n",
    "from search_spaces.nas_bench_101.NASBench101MCTS import *\n",
    "from search_spaces.nas_bench_101.NASBench101RandomSearch import *\n",
    "from search_spaces.nas_bench_101.NASBench101RegEvo import *\n",
    "\n",
    "# NAS-Bench-201\n",
    "from search_spaces.nas_bench_201.NASBench201Node import *\n",
    "from search_spaces.nas_bench_201.NASBench201MCTS import *\n",
    "from search_spaces.nas_bench_201.NASBench201RandomSearch import *\n",
    "from search_spaces.nas_bench_201.NASBench201RegEvo import *\n",
    "\n",
    "# NAS-Bench-301\n",
    "# from search_spaces.nas_bench_301.NASBench301Node import *\n",
    "# from search_spaces.nas_bench_301.NASBench301MCTS import *\n",
    "# from search_spaces.nas_bench_301.NASBench301RandomSearch import *\n",
    "# from search_spaces.nas_bench_301.NASBench301RegEvo import *\n",
    "\n",
    "# NATS-Bench\n",
    "from search_spaces.nats_bench_dataset.NATSBenchNode import *\n",
    "from search_spaces.nats_bench_dataset.NATSBenchMCTS import *\n",
    "from search_spaces.nats_bench_dataset.NATSBenchRandomSearch import *\n",
    "from search_spaces.nats_bench_dataset.NATSBenchRegEvo import *"
   ]
  },
  {
   "cell_type": "markdown",
   "id": "23a8b214-4515-48ef-ac0d-ffc44e0d7f39",
   "metadata": {},
   "source": [
    "## Evaluating the search algorithms\n",
    "\n",
    "Creating a dictionary of datasets for evaluation. This cell can take time to run."
   ]
  },
  {
   "cell_type": "code",
   "execution_count": 4,
   "id": "3b0705a3-d9ca-4ec9-b190-59d46b2e634c",
   "metadata": {
    "scrolled": true
   },
   "outputs": [
    {
     "name": "stdout",
     "output_type": "stream",
     "text": [
      "Loading NB201\n",
      "Loading NB101\n",
      "Loading dataset from file... This may take a few minutes...\n",
      "WARNING:tensorflow:From /Users/samy/Desktop/nasbenchv2/nasbench/api.py:147: tf_record_iterator (from tensorflow.python.lib.io.tf_record) is deprecated and will be removed in a future version.\n",
      "Instructions for updating:\n",
      "Use eager execution and: \n",
      "`tf.data.TFRecordDataset(path)`\n",
      "Loaded dataset in 172 seconds\n",
      "Loading NATS\n"
     ]
    }
   ],
   "source": [
    "# models_1_0_dir = \"API/nasbench301_models_v1.0/nb_models\"\n",
    "# model_paths = {\n",
    "#     model_name: os.path.join(models_1_0_dir, '{}_v1.0'.format(model_name))\n",
    "#     for model_name in ['xgb', 'lgb_runtime']\n",
    "# }\n",
    "# NB_301_performance_model = nb.load_ensemble(model_paths['xgb'])\n",
    "\n",
    "print('Loading NB201')\n",
    "nas_bench_201_api = API('api/NAS-Bench-201-v1_1-096897.pth', verbose=False)\n",
    "print('Loading NB101')\n",
    "nas_bench_101_api = api.NASBench(\"api/nasbench_full.tfrecord\")\n",
    "print('Loading NATS')\n",
    "nats_bench_api = nats_bench.create(\"API/NATS-sss-v1_0-50262.pickle.pbz2\", \"sss\", verbose=False)"
   ]
  },
  {
   "cell_type": "code",
   "execution_count": 5,
   "id": "761acb66-e499-4b86-b135-8797463f153b",
   "metadata": {},
   "outputs": [],
   "source": [
    "datasets = {\n",
    "            \"nas_bench_101\": {\"api\": nas_bench_101_api,\n",
    "                              \"n_runs\": 100,\n",
    "                              \"n_iter\": 3375,\n",
    "                              \"nrpa_level\": 3,\n",
    "                              \"nrpa_alpha\": .01},\n",
    "            \"nas_bench_201\": {\"api\": nas_bench_201_api,\n",
    "                              \"n_runs\": 100,\n",
    "                              \"n_iter\": 200,\n",
    "                              \"nrpa_level\": 3,\n",
    "                              \"nrpa_alpha\": .1}, \n",
    "            # \"nas_bench_301\": {\"api\": NB_301_performance_model,\n",
    "            #                   \"n_runs\": 100,\n",
    "            #                   \"n_iter\": 10000,\n",
    "            #                   \"nrpa_level\": 3,\n",
    "            #                   \"nrpa_alpha\": 1},\n",
    "            \"nats_bench\"   : {\"api\": nats_bench_api,\n",
    "                              \"n_runs\": 100,\n",
    "                              \"n_iter\": 400,\n",
    "                              \"nrpa_level\": 3,\n",
    "                              \"nrpa_alpha\": .1}\n",
    "           }"
   ]
  },
  {
   "cell_type": "markdown",
   "id": "57855776-1eb7-4d57-b8f9-88121f2b14ce",
   "metadata": {},
   "source": [
    "### NAS-Bench-101"
   ]
  },
  {
   "cell_type": "code",
   "execution_count": 6,
   "id": "30c16258-6f4d-4502-90d1-77ee8123008c",
   "metadata": {
    "scrolled": true
   },
   "outputs": [
    {
     "name": "stdout",
     "output_type": "stream",
     "text": [
      "RUN N° 1/100\n"
     ]
    },
    {
     "name": "stderr",
     "output_type": "stream",
     "text": [
      "100%|██████████| 3375/3375 [00:02<00:00, 1460.45it/s]\n"
     ]
    },
    {
     "name": "stdout",
     "output_type": "stream",
     "text": [
      "Best accuracy: 0.9485176205635071\n",
      "1000: Best acc : 0.9489182829856873\n",
      "2000: Best acc : 0.9518229365348816\n",
      "3000: Best acc : 0.9518229365348816\n",
      "Best accuracy: 0.9518229365348816\n"
     ]
    },
    {
     "name": "stderr",
     "output_type": "stream",
     "text": [
      "  0%|          | 0/281 [00:00<?, ?it/s]/Users/samy/anaconda3/lib/python3.11/site-packages/numpy/core/fromnumeric.py:3504: RuntimeWarning: Mean of empty slice.\n",
      "  return _methods._mean(a, axis=axis, dtype=dtype,\n",
      "/Users/samy/anaconda3/lib/python3.11/site-packages/numpy/core/_methods.py:129: RuntimeWarning: invalid value encountered in scalar divide\n",
      "  ret = ret.dtype.type(ret / rcount)\n",
      "100%|██████████| 281/281 [00:00<00:00, 298.20it/s]\n"
     ]
    },
    {
     "name": "stdout",
     "output_type": "stream",
     "text": [
      "(5, 'set_label', 'conv3x3-bn-relu')\n"
     ]
    },
    {
     "name": "stderr",
     "output_type": "stream",
     "text": [
      "100%|██████████| 281/281 [00:00<00:00, 320.75it/s]\n"
     ]
    },
    {
     "name": "stdout",
     "output_type": "stream",
     "text": [
      "(5, 'build_edge', 0)\n"
     ]
    },
    {
     "name": "stderr",
     "output_type": "stream",
     "text": [
      "100%|██████████| 281/281 [00:00<00:00, 314.42it/s]\n"
     ]
    },
    {
     "name": "stdout",
     "output_type": "stream",
     "text": [
      "(6, 'build_edge', 0)\n"
     ]
    },
    {
     "name": "stderr",
     "output_type": "stream",
     "text": [
      "100%|██████████| 281/281 [00:00<00:00, 356.58it/s]\n"
     ]
    },
    {
     "name": "stdout",
     "output_type": "stream",
     "text": [
      "(3, 'build_edge', 1)\n"
     ]
    },
    {
     "name": "stderr",
     "output_type": "stream",
     "text": [
      "100%|██████████| 281/281 [00:00<00:00, 362.76it/s]\n"
     ]
    },
    {
     "name": "stdout",
     "output_type": "stream",
     "text": [
      "(2, 'build_edge', 0)\n"
     ]
    },
    {
     "name": "stderr",
     "output_type": "stream",
     "text": [
      "100%|██████████| 281/281 [00:00<00:00, 384.01it/s]\n"
     ]
    },
    {
     "name": "stdout",
     "output_type": "stream",
     "text": [
      "(5, 'build_edge', 4)\n"
     ]
    },
    {
     "name": "stderr",
     "output_type": "stream",
     "text": [
      "100%|██████████| 281/281 [00:00<00:00, 388.59it/s]\n"
     ]
    },
    {
     "name": "stdout",
     "output_type": "stream",
     "text": [
      "(4, 'build_edge', 3)\n"
     ]
    },
    {
     "name": "stderr",
     "output_type": "stream",
     "text": [
      "100%|██████████| 281/281 [00:00<00:00, 391.13it/s]\n"
     ]
    },
    {
     "name": "stdout",
     "output_type": "stream",
     "text": [
      "(4, 'build_edge', 2)\n"
     ]
    },
    {
     "name": "stderr",
     "output_type": "stream",
     "text": [
      "100%|██████████| 281/281 [00:00<00:00, 553.13it/s]\n"
     ]
    },
    {
     "name": "stdout",
     "output_type": "stream",
     "text": [
      "(3, 'set_label', 'conv3x3-bn-relu')\n"
     ]
    },
    {
     "name": "stderr",
     "output_type": "stream",
     "text": [
      "100%|██████████| 281/281 [00:00<00:00, 799.28it/s]\n"
     ]
    },
    {
     "name": "stdout",
     "output_type": "stream",
     "text": [
      "(4, 'set_label', 'conv3x3-bn-relu')\n"
     ]
    },
    {
     "name": "stderr",
     "output_type": "stream",
     "text": [
      "100%|██████████| 281/281 [00:00<00:00, 1171.83it/s]\n"
     ]
    },
    {
     "name": "stdout",
     "output_type": "stream",
     "text": [
      "(1, 'set_label', 'conv3x3-bn-relu')\n"
     ]
    },
    {
     "name": "stderr",
     "output_type": "stream",
     "text": [
      "100%|██████████| 281/281 [00:00<00:00, 1533.21it/s]\n"
     ]
    },
    {
     "name": "stdout",
     "output_type": "stream",
     "text": [
      "(2, 'set_label', 'maxpool3x3')\n"
     ]
    },
    {
     "name": "stderr",
     "output_type": "stream",
     "text": [
      "Current best reward : 0.9518: 100%|██████████| 3375/3375 [00:14<00:00, 226.38it/s]\n"
     ]
    },
    {
     "name": "stdout",
     "output_type": "stream",
     "text": [
      "Sequence is [(5, 'build_edge', 3), (5, 'build_edge', 4), (4, 'set_label', 'conv3x3-bn-relu'), (5, 'set_label', 'conv3x3-bn-relu'), (5, 'build_edge', 0), (1, 'set_label', 'conv3x3-bn-relu'), (4, 'build_edge', 0), (3, 'build_edge', 0), (6, 'build_edge', 0), (3, 'set_label', 'conv3x3-bn-relu'), (3, 'build_edge', 1), (2, 'set_label', 'conv1x1-bn-relu')] with score 0.9518229365348816\n"
     ]
    },
    {
     "ename": "FileNotFoundError",
     "evalue": "[Errno 2] No such file or directory: 'runs/NASBench101.json'",
     "output_type": "error",
     "traceback": [
      "\u001b[0;31m---------------------------------------------------------------------------\u001b[0m",
      "\u001b[0;31mFileNotFoundError\u001b[0m                         Traceback (most recent call last)",
      "Cell \u001b[0;32mIn[6], line 49\u001b[0m\n\u001b[1;32m     45\u001b[0m     methods[\u001b[38;5;124m\"\u001b[39m\u001b[38;5;124mNRPA\u001b[39m\u001b[38;5;124m\"\u001b[39m]\u001b[38;5;241m.\u001b[39mappend(nrpa\u001b[38;5;241m.\u001b[39mbest_reward)\n\u001b[1;32m     47\u001b[0m \u001b[38;5;28;01mexcept\u001b[39;00m \u001b[38;5;167;01mException\u001b[39;00m: \u001b[38;5;28;01mpass\u001b[39;00m\n\u001b[0;32m---> 49\u001b[0m \u001b[38;5;28;01mwith\u001b[39;00m \u001b[38;5;28mopen\u001b[39m(\u001b[38;5;124m\"\u001b[39m\u001b[38;5;124mruns/NASBench101.json\u001b[39m\u001b[38;5;124m\"\u001b[39m, \u001b[38;5;124m\"\u001b[39m\u001b[38;5;124mw+\u001b[39m\u001b[38;5;124m\"\u001b[39m) \u001b[38;5;28;01mas\u001b[39;00m f:\n\u001b[1;32m     50\u001b[0m     json\u001b[38;5;241m.\u001b[39mdump(methods, f)\n",
      "File \u001b[0;32m~/anaconda3/lib/python3.11/site-packages/IPython/core/interactiveshell.py:284\u001b[0m, in \u001b[0;36m_modified_open\u001b[0;34m(file, *args, **kwargs)\u001b[0m\n\u001b[1;32m    277\u001b[0m \u001b[38;5;28;01mif\u001b[39;00m file \u001b[38;5;129;01min\u001b[39;00m {\u001b[38;5;241m0\u001b[39m, \u001b[38;5;241m1\u001b[39m, \u001b[38;5;241m2\u001b[39m}:\n\u001b[1;32m    278\u001b[0m     \u001b[38;5;28;01mraise\u001b[39;00m \u001b[38;5;167;01mValueError\u001b[39;00m(\n\u001b[1;32m    279\u001b[0m         \u001b[38;5;124mf\u001b[39m\u001b[38;5;124m\"\u001b[39m\u001b[38;5;124mIPython won\u001b[39m\u001b[38;5;124m'\u001b[39m\u001b[38;5;124mt let you open fd=\u001b[39m\u001b[38;5;132;01m{\u001b[39;00mfile\u001b[38;5;132;01m}\u001b[39;00m\u001b[38;5;124m by default \u001b[39m\u001b[38;5;124m\"\u001b[39m\n\u001b[1;32m    280\u001b[0m         \u001b[38;5;124m\"\u001b[39m\u001b[38;5;124mas it is likely to crash IPython. If you know what you are doing, \u001b[39m\u001b[38;5;124m\"\u001b[39m\n\u001b[1;32m    281\u001b[0m         \u001b[38;5;124m\"\u001b[39m\u001b[38;5;124myou can use builtins\u001b[39m\u001b[38;5;124m'\u001b[39m\u001b[38;5;124m open.\u001b[39m\u001b[38;5;124m\"\u001b[39m\n\u001b[1;32m    282\u001b[0m     )\n\u001b[0;32m--> 284\u001b[0m \u001b[38;5;28;01mreturn\u001b[39;00m io_open(file, \u001b[38;5;241m*\u001b[39margs, \u001b[38;5;241m*\u001b[39m\u001b[38;5;241m*\u001b[39mkwargs)\n",
      "\u001b[0;31mFileNotFoundError\u001b[0m: [Errno 2] No such file or directory: 'runs/NASBench101.json'"
     ]
    }
   ],
   "source": [
    "methods = {\"Random search\": [], \n",
    "           \"Regularized evolution\": [], \n",
    "           \"UCT\": [], \n",
    "           \"NRPA\": []}\n",
    "\n",
    "params = datasets[\"nas_bench_101\"]\n",
    "\n",
    "for i in range(params[\"n_runs\"]):\n",
    "    print(f\"RUN N° {i+1}/{params['n_runs']}\")\n",
    "    \n",
    "    rs = RandomSearchNASBench101(api=params[\"api\"],\n",
    "                                 max_iter=params[\"n_iter\"])\n",
    "    \n",
    "    re = RegularizedEvolutionNB101(api=params[\"api\"],\n",
    "                                  population_size=50,\n",
    "                                  cycles=params[\"n_iter\"],\n",
    "                                  sample_size=25)\n",
    "    \n",
    "    root_node_uct = NASBench101Node.NASBench101Node(state=NASBench101Cell(n_vertices=7))\n",
    "    uct = NASBench101UCT(root_node_uct,\n",
    "                         api=params[\"api\"],\n",
    "                         params_path=\"utils/params.json\",\n",
    "                         disable_tqdm=False)\n",
    "    uct.n_iter = params[\"n_iter\"]//(12*uct.playouts_per_selection)\n",
    "    \n",
    "    root_node_nrpa = NASBench101NestedNode(state=NASBench101Cell(n_vertices=7), sequence=[])\n",
    "    nrpa = NASBench101NRPA(root_node_nrpa,\n",
    "                         params[\"nrpa_level\"],\n",
    "                         api=params[\"api\"],\n",
    "                         params_path=\"utils/params.json\",\n",
    "                         disable_tqdm=False)\n",
    "    nrpa.n_iter = int(np.ceil(np.power(params[\"n_iter\"], 1/params[\"nrpa_level\"])))\n",
    "    nrpa.alpha = params[\"nrpa_alpha\"]\n",
    "    \n",
    "    try:\n",
    "        rs.run()\n",
    "        re.run()\n",
    "        _, _, _ = uct.main_loop()\n",
    "        _, _, _ = nrpa.main_loop()\n",
    "    \n",
    "        \n",
    "        methods[\"Random search\"].append(rs.best_accs[1:])\n",
    "        methods[\"Regularized evolution\"].append(re.best_accs[1:])\n",
    "        methods[\"UCT\"].append(uct.best_reward)\n",
    "        methods[\"NRPA\"].append(nrpa.best_reward)\n",
    "        \n",
    "    except Exception: pass\n",
    "\n",
    "    if not os.path.isdir('runs'):\n",
    "        os.mkdir('runs')\n",
    "    with open(\"runs/NASBench101.json\", \"w+\") as f:\n",
    "        json.dump(methods, f)"
   ]
  },
  {
   "cell_type": "code",
   "execution_count": null,
   "id": "40128faf-47fb-4740-9b44-62e6cd3ba61a",
   "metadata": {},
   "outputs": [],
   "source": [
    "ma = max([len(e) for e in methods[\"UCT\"]])\n",
    "methods[\"UCT\"] = [np.pad(e, (0,ma-len(e)), mode='maximum') for e in methods[\"UCT\"]]"
   ]
  },
  {
   "cell_type": "code",
   "execution_count": null,
   "id": "8208b70e-3b27-4663-94d4-04adf8b62d7b",
   "metadata": {},
   "outputs": [],
   "source": [
    "max_value = max([np.max(e) for e in methods.values()])*100\n",
    "min_value = min(np.quantile(e, 0.003) for e in methods.values())*100\n",
    "ymax = (11*max_value - min_value) / 10"
   ]
  },
  {
   "cell_type": "code",
   "execution_count": null,
   "id": "bbe48c6d-0388-44ac-8991-4559da7dab57",
   "metadata": {},
   "outputs": [],
   "source": [
    "f, ax = plt.subplots(1,1,figsize=(8,6))\n",
    "for name, results in methods.items():\n",
    "    ax.plot(np.mean(results, axis=0)[:datasets[\"nas_bench_101\"][\"n_iter\"]]*100, label=name)\n",
    "plt.ylim([min_value, ymax]); plt.xlim(-datasets[\"nas_bench_101\"][\"n_iter\"]/30, datasets[\"nas_bench_101\"][\"n_iter\"]+(datasets[\"nas_bench_101\"][\"n_iter\"]/30))\n",
    "ax.set_ylabel(\"Accuracy\"); ax.set_xlabel(\"# of network evaluations\")\n",
    "f.suptitle(\"NAS-Bench-101\")\n",
    "ax.legend()\n",
    "plt.tight_layout()\n",
    "plt.savefig(\"figures/NASBench-101.png\")"
   ]
  },
  {
   "cell_type": "markdown",
   "id": "66e0c974-aebd-45f6-8ae4-d9a5d949a9fd",
   "metadata": {},
   "source": [
    "### NATS-Bench"
   ]
  },
  {
   "cell_type": "code",
   "execution_count": 15,
   "id": "9e2b2222-0a52-41f8-80a9-5a7c1b365df9",
   "metadata": {},
   "outputs": [],
   "source": [
    "nats_bench_df = pd.read_csv(\"benchmark_scores/Cifar10-NATS.csv\")"
   ]
  },
  {
   "cell_type": "code",
   "execution_count": null,
   "id": "7a4dc11a-d5c5-4798-9ac9-f2dd8a7cb481",
   "metadata": {
    "scrolled": true
   },
   "outputs": [],
   "source": [
    "methods = {\"Random search\": [], \n",
    "           \"Regularized evolution\": [], \n",
    "           \"UCT\": [], \n",
    "           \"NRPA\": []}\n",
    "\n",
    "params = datasets[\"nats_bench\"]\n",
    "params[\"nrpa_alpha\"] = 1\n",
    "params[\"nrpa_level\"] = 3\n",
    "\n",
    "for i in range(params[\"n_runs\"]):\n",
    "    print(f\"RUN N° {i+1}/{params['n_runs']}\")\n",
    "    \n",
    "    rs = RandomSearchNats(api=params[\"api\"],\n",
    "                          df=nats_bench_df,\n",
    "                          max_iter=params[\"n_iter\"])\n",
    "    \n",
    "    re = RegularizedEvolutionNATS(api=params[\"api\"],\n",
    "                                  df=nats_bench_df,\n",
    "                                  population_size=50,\n",
    "                                  cycles=params[\"n_iter\"],\n",
    "                                  sample_size=25)\n",
    "    \n",
    "    root_node_uct = NATSBenchSizeNode()\n",
    "    uct = NATSBenchUCT(root_node_uct,\n",
    "                       api=params[\"api\"],\n",
    "                       df=nats_bench_df,\n",
    "                       params_path=\"utils/params.json\",\n",
    "                       disable_tqdm=False)\n",
    "    uct.n_iter = params[\"n_iter\"]//(5*uct.playouts_per_selection)\n",
    "    \n",
    "    root_node_nrpa = NATSBenchSizeNestedNode(sequence=[])\n",
    "    nrpa = NATSBenchNRPA(root_node_nrpa,\n",
    "                         params[\"nrpa_level\"],\n",
    "                         api=params[\"api\"],\n",
    "                         df=nats_bench_df,\n",
    "                         params_path=\"utils/params.json\",\n",
    "                         disable_tqdm=False)\n",
    "    nrpa.n_iter = int(np.ceil(np.power(params[\"n_iter\"], 1/params[\"nrpa_level\"])))\n",
    "    nrpa.alpha = params[\"nrpa_alpha\"]\n",
    "    nrpa.softmax_temp=2\n",
    "    \n",
    "    rs.run()\n",
    "    re.run()\n",
    "    _, _, _ = uct.main_loop()\n",
    "    _, _, _ = nrpa.main_loop()\n",
    "\n",
    "    \n",
    "    methods[\"Random search\"].append(rs.best_accs[1:])\n",
    "    methods[\"Regularized evolution\"].append(re.best_accs[1:])\n",
    "    methods[\"UCT\"].append(uct.best_reward)\n",
    "    methods[\"NRPA\"].append(nrpa.best_reward)"
   ]
  },
  {
   "cell_type": "code",
   "execution_count": 17,
   "id": "a780c311-fa88-4377-a614-4dfa56f96fb3",
   "metadata": {},
   "outputs": [],
   "source": [
    "max_value = max([np.max(e) for e in methods.values()])\n",
    "min_value = min(np.quantile(e, 0.005) for e in methods.values())\n",
    "ymax = (11*max_value - min_value) / 10"
   ]
  },
  {
   "cell_type": "code",
   "execution_count": 20,
   "id": "93df0b83-fcbe-4ff5-95fa-95feee0400a2",
   "metadata": {},
   "outputs": [
    {
     "data": {
      "image/png": "[encoded data removed]",
      "text/plain": [
       "<Figure size 800x600 with 1 Axes>"
      ]
     },
     "metadata": {},
     "output_type": "display_data"
    }
   ],
   "source": [
    "f, ax = plt.subplots(1,1,figsize=(8,6))\n",
    "for name, results in methods.items():\n",
    "    ax.plot(np.mean(results, axis=0)[:datasets[\"nats_bench\"][\"n_iter\"]], label=name)\n",
    "plt.ylim([min_value, ymax]); plt.xlim(-datasets[\"nats_bench\"][\"n_iter\"]/30, datasets[\"nats_bench\"][\"n_iter\"]+(datasets[\"nats_bench\"][\"n_iter\"]/30))\n",
    "ax.set_ylabel(\"Accuracy\"); ax.set_xlabel(\"# of network evaluations\")\n",
    "f.suptitle(\"NATS-Bench\")\n",
    "ax.legend()\n",
    "plt.tight_layout()\n",
    "ax.legend()\n",
    "if not os.path.isdir('figures'):\n",
    "    os.mkdir(\"figures\")\n",
    "plt.savefig(\"figures/NATSBench.png\")"
   ]
  },
  {
   "cell_type": "markdown",
   "id": "6e260569-cf91-43c8-971a-fde3315e38ea",
   "metadata": {},
   "source": [
    "### NAS-Bench-201"
   ]
  },
  {
   "cell_type": "code",
   "execution_count": 21,
   "id": "afcd66da-152a-4701-8a13-cf26eac98b7e",
   "metadata": {},
   "outputs": [],
   "source": [
    "nas_bench_201_df = pd.read_csv(\"benchmark_scores/Cifar10-NB201.csv\")"
   ]
  },
  {
   "cell_type": "code",
   "execution_count": null,
   "id": "6bb6c8f8-21b0-4b6c-9acd-c3a73b684bcd",
   "metadata": {
    "scrolled": true
   },
   "outputs": [],
   "source": [
    "methods = {\"Random search\": [], \n",
    "           \"Regularized evolution\": [], \n",
    "           \"UCT\": [],\n",
    "           \"NRPA\": []}\n",
    "\n",
    "params = datasets[\"nas_bench_201\"]\n",
    "params[\"n_iter\"] = 100\n",
    "\n",
    "\n",
    "for i in range(params[\"n_runs\"]):\n",
    "    print(f\"RUN N° {i+1}/{params['n_runs']}\")\n",
    "    \n",
    "    rs = RandomSearchNB201(api=params[\"api\"],\n",
    "                           df=nas_bench_201_df,\n",
    "                           max_iter=params[\"n_iter\"])\n",
    "    \n",
    "    re =  RegularizedEvolutionNB201(api=params[\"api\"],\n",
    "                                    df=nas_bench_201_df,\n",
    "                                    population_size=50,\n",
    "                                    cycles=params[\"n_iter\"],\n",
    "                                    sample_size=25)\n",
    "    \n",
    "    root_node_uct = NASBench201Node(state=NASBench201Cell(4))\n",
    "    uct = NASBench201UCT(root_node_uct,\n",
    "                         api=params[\"api\"],\n",
    "                         params_path=\"utils/params.json\",\n",
    "                         disable_tqdm=False,\n",
    "                         df=nas_bench_201_df)\n",
    "    uct.n_iter = params[\"n_iter\"]//(6*uct.playouts_per_selection)\n",
    "    \n",
    "    root_node_nrpa = NASBench201NestedNode(state=NASBench201Cell(4), sequence=[])\n",
    "    nrpa = NASBench201NRPA(root_node_nrpa,\n",
    "                           params[\"nrpa_level\"],\n",
    "                           api=params[\"api\"],\n",
    "                           params_path=\"utils/params.json\",\n",
    "                           disable_tqdm=False, \n",
    "                           df=nas_bench_201_df)\n",
    "    nrpa.n_iter = int(np.ceil(np.power(params[\"n_iter\"], 1/params[\"nrpa_level\"])))\n",
    "    nrpa.alpha = params[\"nrpa_alpha\"]\n",
    "    \n",
    "    rs.run()\n",
    "    re.run()\n",
    "    _, _, _ = uct.main_loop()\n",
    "    _, _, _ = nrpa.main_loop()\n",
    "\n",
    "    \n",
    "    methods[\"Random search\"].append(rs.best_accs[1:])\n",
    "    methods[\"Regularized evolution\"].append(re.best_accs[1:])\n",
    "    methods[\"UCT\"].append(uct.best_reward)\n",
    "    methods[\"NRPA\"].append(nrpa.best_reward)\n"
   ]
  },
  {
   "cell_type": "code",
   "execution_count": 23,
   "id": "9effce72-e042-4453-8d77-7a778a12d77c",
   "metadata": {},
   "outputs": [],
   "source": [
    "max_value = max([np.max(e) for e in methods.values()])*100\n",
    "min_value = min(np.quantile(e, 0.005) for e in methods.values())*100\n",
    "ymax = (11*max_value - min_value) / 10"
   ]
  },
  {
   "cell_type": "code",
   "execution_count": 24,
   "id": "25c6f5fb-1c6a-43c8-b819-272f5c1098c8",
   "metadata": {},
   "outputs": [
    {
     "data": {
      "image/png": "[encoded data removed]",
      "text/plain": [
       "<Figure size 800x600 with 1 Axes>"
      ]
     },
     "metadata": {},
     "output_type": "display_data"
    }
   ],
   "source": [
    "f, ax = plt.subplots(1,1,figsize=(8,6))\n",
    "for name, results in methods.items():\n",
    "    ax.plot(np.mean(results, axis=0)[:datasets[\"nas_bench_201\"][\"n_iter\"]]*100, label=name)\n",
    "plt.ylim([min_value, ymax]); plt.xlim(-datasets[\"nas_bench_201\"][\"n_iter\"]/30, datasets[\"nas_bench_201\"][\"n_iter\"]+(datasets[\"nas_bench_201\"][\"n_iter\"]/30))\n",
    "ax.set_ylabel(\"Accuracy\"); ax.set_xlabel(\"# of network evaluations\")\n",
    "f.suptitle(\"NAS-Bench-201\")\n",
    "ax.legend()\n",
    "plt.tight_layout()\n",
    "ax.legend()\n",
    "if not os.path.isdir('figures'):\n",
    "    os.mkdir(\"figures\")\n",
    "plt.savefig(\"figures/NAS-Bench-201.png\")"
   ]
  },
  {
   "cell_type": "markdown",
   "id": "b4ec8400-bd47-4cfc-b769-abf5c2846345",
   "metadata": {},
   "source": [
    "### NAS-Bench-301"
   ]
  },
  {
   "cell_type": "code",
   "execution_count": null,
   "id": "b328fbf9-fb03-40e8-b65e-12a832942ed0",
   "metadata": {},
   "outputs": [],
   "source": [
    "from search_spaces.nas_bench_301 import NASBench301RandomSearch\n",
    "importlib.reload(NASBench301RandomSearch)\n",
    "from search_spaces.nas_bench_301.NASBench301RandomSearch import *\n",
    "from search_spaces.nas_bench_301 import NASBench301RegEvo\n",
    "importlib.reload(NASBench301RegEvo)\n",
    "from search_spaces.nas_bench_301.NASBench301RegEvo import *"
   ]
  },
  {
   "cell_type": "code",
   "execution_count": null,
   "id": "6d6ccb92-d2ff-43c9-8b8d-8e74addcc4ef",
   "metadata": {
    "scrolled": true
   },
   "outputs": [],
   "source": [
    "methods = {\n",
    "           \"Random search\": [], \n",
    "           \"Regularized evolution\": [], \n",
    "           \"UCT\": [], \n",
    "           \"NRPA\": []\n",
    "           }\n",
    "\n",
    "params = datasets[\"nas_bench_301\"]\n",
    "params[\"n_iter\"] = 100\n",
    "\n",
    "for i in range(params[\"n_runs\"]):\n",
    "    print(f\"RUN N° {i+1}/{params['n_runs']}\")\n",
    "    \n",
    "    rs = RandomSearchNB301(max_iter=params[\"n_iter\"])\n",
    "    \n",
    "    re =  RegularizedEvolutionNB301(population_size=50,\n",
    "                                    cycles=params[\"n_iter\"],\n",
    "                                    sample_size=25)\n",
    "    \n",
    "    root_node_uct = DARTSNode((DARTSCell(), DARTSCell()))\n",
    "    uct = NASBench301UCT(root_node_uct,\n",
    "                         performance_model=params[\"api\"],\n",
    "                         params_path=\"utils/params.json\",\n",
    "                         disable_tqdm=False)\n",
    "    uct.n_iter = params[\"n_iter\"]//(16*uct.playouts_per_selection)\n",
    "    \n",
    "    \n",
    "    root_node_nrpa = DARTSNestedNode((DARTSCell(), DARTSCell()), sequence=[])\n",
    "    nrpa = NASBench301NRPA(root_node_nrpa,\n",
    "                           params[\"nrpa_level\"],\n",
    "                           params_path=\"utils/params.json\",\n",
    "                           disable_tqdm=False)\n",
    "    nrpa.n_iter = int(np.ceil(np.power(params[\"n_iter\"], 1/params[\"nrpa_level\"])))\n",
    "    nrpa.alpha = params[\"nrpa_alpha\"]\n",
    "    \n",
    "    rs.run()\n",
    "    re.run()\n",
    "    _, _, _ = uct.main_loop()\n",
    "    _, _, _ = nrpa.main_loop()\n",
    "\n",
    "    \n",
    "    methods[\"Random search\"].append(rs.best_accs[1:])\n",
    "    methods[\"Regularized evolution\"].append(re.best_accs[1:])\n",
    "    methods[\"UCT\"].append(uct.best_reward)\n",
    "    methods[\"NRPA\"].append(nrpa.best_reward)\n"
   ]
  },
  {
   "cell_type": "code",
   "execution_count": null,
   "id": "1f0ee3d6-79d8-464e-9d40-65340ba9e483",
   "metadata": {},
   "outputs": [],
   "source": [
    "max_value = max([np.max(e) for e in methods.values()])\n",
    "min_value = min(np.quantile(e, 0.005) for e in methods.values())\n",
    "ymax = (11*max_value - min_value) /10"
   ]
  },
  {
   "cell_type": "code",
   "execution_count": null,
   "id": "ca4d1fd4-496e-4f41-b9d2-d79226d9d1dd",
   "metadata": {},
   "outputs": [],
   "source": [
    "f, ax = plt.subplots(1,1,figsize=(8,6))\n",
    "for name, results in methods.items():\n",
    "    ax.plot(np.mean(results, axis=0)[:datasets[\"nas_bench_301\"][\"n_iter\"]], label=name)\n",
    "plt.ylim([min_value, ymax]); plt.xlim(-datasets[\"nas_bench_301\"][\"n_iter\"]/30, datasets[\"nas_bench_301\"][\"n_iter\"]+(datasets[\"nas_bench_301\"][\"n_iter\"]/30))\n",
    "ax.set_ylabel(\"Accuracy\"); ax.set_xlabel(\"# of network evaluations\")\n",
    "f.suptitle(\"NAS-Bench-301\")\n",
    "ax.legend()\n",
    "plt.tight_layout()\n",
    "ax.legend()"
   ]
  },
  {
   "cell_type": "markdown",
   "id": "968bd6c5-07b0-42ab-988f-08a89ffff675",
   "metadata": {},
   "source": [
    "## MONET : Combining **Mo**nte-Carlo with **Ne**ural **T**angent Kernel"
   ]
  },
  {
   "cell_type": "markdown",
   "id": "5608ea16-65a2-477c-a001-5fd92976a408",
   "metadata": {},
   "source": [
    "### On NAS-Bench-201"
   ]
  },
  {
   "cell_type": "code",
   "execution_count": null,
   "id": "2241eb3d-9f5c-4953-bb06-40d8b592ac13",
   "metadata": {},
   "outputs": [],
   "source": [
    "from nas_bench_201 import NASBench201MCTS\n",
    "importlib.reload(NASBench201MCTS)\n",
    "from nas_bench_201.NASBench201MCTS import *"
   ]
  },
  {
   "cell_type": "code",
   "execution_count": null,
   "id": "cf85b384-7999-4b50-a464-b3824fcd9f89",
   "metadata": {},
   "outputs": [],
   "source": [
    "nas_bench_201_df = pd.read_csv(\"GOOD_CSV/Cifar10-NB201.csv\")"
   ]
  },
  {
   "cell_type": "code",
   "execution_count": null,
   "id": "eb07a4f9-d17f-488e-9b4c-2ea106f78425",
   "metadata": {
    "scrolled": true
   },
   "outputs": [],
   "source": [
    "params = datasets[\"nas_bench_201\"]\n",
    "accs_ntk_nb201 = []\n",
    "ntks_ntk_nb201 = []\n",
    "for i in range(params[\"n_runs\"]):\n",
    "    print(f\"Run {i+1} / {params['n_runs']}\")\n",
    "\n",
    "    root_node_nrpa = NASBench201NestedNode(state=NASBench201Cell(4), sequence=[])\n",
    "    nrpa = NASBench201NRPA(root_node_nrpa,\n",
    "                           params[\"nrpa_level\"],\n",
    "                           api=params[\"api\"],\n",
    "                           params_path=\"utils/params.json\",\n",
    "                           disable_tqdm=False, \n",
    "                           df=nas_bench_201_df)\n",
    "    nrpa.n_iter = int(np.ceil(np.power(params[\"n_iter\"], 1/params[\"nrpa_level\"])))\n",
    "    nrpa.alpha = params[\"nrpa_alpha\"]\n",
    "    nrpa.metric = \"score\"\n",
    "    a, b, c = nrpa.main_loop()\n",
    "    accs_ntk_nb201.append(nrpa.accuracies_tracker)\n",
    "    ntks_ntk_nb201.append(nrpa.best_reward)"
   ]
  },
  {
   "cell_type": "code",
   "execution_count": null,
   "id": "d593cc88-ceb2-4ada-a291-75165647a047",
   "metadata": {
    "collapsed": true,
    "jupyter": {
     "outputs_hidden": true,
     "source_hidden": true
    }
   },
   "outputs": [],
   "source": [
    "f, ax1 = plt.subplots()\n",
    "ax1.plot(normalize(np.mean(np.array(ntks_nasi), axis=0)), label=\"NTK Metric\", color=\"#3d405b\")\n",
    "ax1.set_ylabel(\"NTK Metric\")\n",
    "\n",
    "ax2 = ax1.twinx()\n",
    "ax2.plot(np.mean(np.array(accs_nasi), axis=0), label=\"Accuracy\", color=\"#e07a5f\")\n",
    "ax2.set_ylabel(\"CIFAR-100 accuracy\")\n",
    "\n",
    "plt.title(\"Evolution of the best architecture reward \\n NTK Score\"); plt.xlabel(\"Iteration\"); plt.ylabel(\"CIFAR-100 accuracy\"); \n",
    "plt.legend();\n",
    "# plt.ylim([0.56,0.62]);\n",
    "plt.savefig(\"figures/search_nrpa_nasi_nb201.png\")\n",
    "plt.show()"
   ]
  },
  {
   "cell_type": "code",
   "execution_count": null,
   "id": "b192c147-e25b-4a2b-b3cb-eee57ab160e7",
   "metadata": {},
   "outputs": [],
   "source": [
    "f, ax = plt.subplots(1,3, figsize=(15,5))\n",
    "#MONET \n",
    "ax[0].plot(normalize(np.mean(np.array(ntks_ntk_nb201), axis=0)), label=\"NTK Metric\", color=sns.color_palette()[0])\n",
    "ax[0].set_ylabel(\"NTK Metric\")\n",
    "\n",
    "ax0 = ax[0].twinx()\n",
    "ax0.plot(np.mean(np.array(accs_ntk_nb201), axis=0), label=\"Accuracy\", color=sns.color_palette()[1])\n",
    "\n",
    "# NASI\n",
    "ax[1].plot(normalize(np.mean(np.array(ntks_nasi_nb201), axis=0)), label=\"NTK Metric\", color=sns.color_palette()[0])\n",
    "\n",
    "ax1 = ax[1].twinx()\n",
    "ax1.plot(np.mean(np.array(accs_nasi_nb201), axis=0), label=\"Accuracy\", color=sns.color_palette()[1])\n",
    "\n",
    "# NASWOT\n",
    "ax[2].plot(normalize(np.mean(np.array(ntks_synflow_nb201), axis=0)), label=\"NTK Metric\", color=sns.color_palette()[0])\n",
    "\n",
    "ax2 = ax[2].twinx()\n",
    "ax2.plot(np.mean(np.array(accs_synflow_nb201), axis=0), label=\"Accuracy\", color=sns.color_palette()[1])\n",
    "ax2.set_ylabel(\"CIFAR-100 accuracy\")\n",
    "\n",
    "ax[0].set_ylabel(\"Training-free metric\"); ax[1].set_ylabel(\"\"), ax[2].set_ylabel(\"\"); ax2.set_ylabel(\"Accuracy\")\n",
    "ax[0].set_title(\"MONET\"); ax[1].set_title(\"NASI\"); ax[2].set_title(\"SynFlow\")\n",
    "\n",
    "ax[0].set_xlabel(\"# of network evaluations\"); ax[1].set_xlabel(\"# of network evaluations\"), ax[2].set_xlabel(\"# of network evaluations\")\n",
    "ax0.set_ylim([0.71, 0.9]); ax1.set_ylim([0.71, 0.9]); ax2.set_ylim([0.71, 0.9])\n",
    "# ax0.set_yticks([]); ax1.set_yticks([])\n",
    "# ax[1].set_yticks([]); ax[2].set_yticks([])\n",
    "f.suptitle(\"Training-free achitecture search - NAS-Bench-201\")\n",
    "plt.tight_layout()\n",
    "plt.savefig(\"figures/search_monet_vs_gradient_nb201.png\")\n",
    "plt.show()"
   ]
  },
  {
   "cell_type": "markdown",
   "id": "960c2b22-115b-4aa3-b54c-d873ddc83c3c",
   "metadata": {},
   "source": [
    "### On NATS-Bench"
   ]
  },
  {
   "cell_type": "code",
   "execution_count": 26,
   "id": "1dc47b12-775e-4fe5-8077-62fdf442e101",
   "metadata": {},
   "outputs": [],
   "source": [
    "from search_spaces.nats_bench_dataset import NATSBenchMCTS\n",
    "from search_spaces.nats_bench_dataset import NATSBenchNode\n",
    "from search_spaces.nats_bench_dataset.NATSBenchMCTS import *\n",
    "from search_spaces.nats_bench_dataset.NATSBenchNode import *"
   ]
  },
  {
   "cell_type": "code",
   "execution_count": 27,
   "id": "8d26e011-412c-4a4e-8cb0-a16b1a3d25be",
   "metadata": {},
   "outputs": [],
   "source": [
    "datasets[\"nats_bench\"][\"n_runs\"]  = 100"
   ]
  },
  {
   "cell_type": "code",
   "execution_count": 28,
   "id": "e0426a62-e9b5-4173-a2bb-6bdb8f308718",
   "metadata": {
    "scrolled": true
   },
   "outputs": [
    {
     "name": "stdout",
     "output_type": "stream",
     "text": [
      "Run 1 / 100\n"
     ]
    },
    {
     "name": "stderr",
     "output_type": "stream",
     "text": [
      "Current best reward : 0.0000:   0%|          | 1/512 [00:00<00:00, 91180.52it/s]"
     ]
    },
    {
     "ename": "KeyError",
     "evalue": "'score_synflow'",
     "output_type": "error",
     "traceback": [
      "\u001b[0;31m---------------------------------------------------------------------------\u001b[0m",
      "\u001b[0;31mKeyError\u001b[0m                                  Traceback (most recent call last)",
      "File \u001b[0;32m~/anaconda3/lib/python3.11/site-packages/pandas/core/indexes/base.py:3653\u001b[0m, in \u001b[0;36mIndex.get_loc\u001b[0;34m(self, key)\u001b[0m\n\u001b[1;32m   3652\u001b[0m \u001b[38;5;28;01mtry\u001b[39;00m:\n\u001b[0;32m-> 3653\u001b[0m     \u001b[38;5;28;01mreturn\u001b[39;00m \u001b[38;5;28mself\u001b[39m\u001b[38;5;241m.\u001b[39m_engine\u001b[38;5;241m.\u001b[39mget_loc(casted_key)\n\u001b[1;32m   3654\u001b[0m \u001b[38;5;28;01mexcept\u001b[39;00m \u001b[38;5;167;01mKeyError\u001b[39;00m \u001b[38;5;28;01mas\u001b[39;00m err:\n",
      "File \u001b[0;32m~/anaconda3/lib/python3.11/site-packages/pandas/_libs/index.pyx:147\u001b[0m, in \u001b[0;36mpandas._libs.index.IndexEngine.get_loc\u001b[0;34m()\u001b[0m\n",
      "File \u001b[0;32m~/anaconda3/lib/python3.11/site-packages/pandas/_libs/index.pyx:176\u001b[0m, in \u001b[0;36mpandas._libs.index.IndexEngine.get_loc\u001b[0;34m()\u001b[0m\n",
      "File \u001b[0;32mpandas/_libs/hashtable_class_helper.pxi:7080\u001b[0m, in \u001b[0;36mpandas._libs.hashtable.PyObjectHashTable.get_item\u001b[0;34m()\u001b[0m\n",
      "File \u001b[0;32mpandas/_libs/hashtable_class_helper.pxi:7088\u001b[0m, in \u001b[0;36mpandas._libs.hashtable.PyObjectHashTable.get_item\u001b[0;34m()\u001b[0m\n",
      "\u001b[0;31mKeyError\u001b[0m: 'score_synflow'",
      "\nThe above exception was the direct cause of the following exception:\n",
      "\u001b[0;31mKeyError\u001b[0m                                  Traceback (most recent call last)",
      "Cell \u001b[0;32mIn[28], line 19\u001b[0m\n\u001b[1;32m     17\u001b[0m nrpa\u001b[38;5;241m.\u001b[39msoftmax_temp\u001b[38;5;241m=\u001b[39m\u001b[38;5;241m2\u001b[39m\n\u001b[1;32m     18\u001b[0m nrpa\u001b[38;5;241m.\u001b[39mmetric \u001b[38;5;241m=\u001b[39m \u001b[38;5;124m\"\u001b[39m\u001b[38;5;124mscore_synflow\u001b[39m\u001b[38;5;124m\"\u001b[39m\n\u001b[0;32m---> 19\u001b[0m a, b, c \u001b[38;5;241m=\u001b[39m nrpa\u001b[38;5;241m.\u001b[39mmain_loop()\n\u001b[1;32m     20\u001b[0m accs_synflow\u001b[38;5;241m.\u001b[39mappend(nrpa\u001b[38;5;241m.\u001b[39maccuracies_tracker)\n\u001b[1;32m     21\u001b[0m ntks_synflow\u001b[38;5;241m.\u001b[39mappend(nrpa\u001b[38;5;241m.\u001b[39mbest_reward)\n",
      "File \u001b[0;32m~/Desktop/NTK4NAS/MCTS/nested.py:278\u001b[0m, in \u001b[0;36mNRPA.main_loop\u001b[0;34m(self)\u001b[0m\n\u001b[1;32m    276\u001b[0m \u001b[38;5;28mself\u001b[39m\u001b[38;5;241m.\u001b[39mpbar \u001b[38;5;241m=\u001b[39m tqdm(total\u001b[38;5;241m=\u001b[39m\u001b[38;5;28mself\u001b[39m\u001b[38;5;241m.\u001b[39mn_iter \u001b[38;5;241m*\u001b[39m\u001b[38;5;241m*\u001b[39m \u001b[38;5;28mself\u001b[39m\u001b[38;5;241m.\u001b[39mlevel, position\u001b[38;5;241m=\u001b[39m\u001b[38;5;241m0\u001b[39m, leave\u001b[38;5;241m=\u001b[39m\u001b[38;5;28;01mTrue\u001b[39;00m)\n\u001b[1;32m    277\u001b[0m t1 \u001b[38;5;241m=\u001b[39m time\u001b[38;5;241m.\u001b[39mtime()\n\u001b[0;32m--> 278\u001b[0m reward, sequence \u001b[38;5;241m=\u001b[39m \u001b[38;5;28mself\u001b[39m\u001b[38;5;241m.\u001b[39mnrpa(node, \u001b[38;5;28mself\u001b[39m\u001b[38;5;241m.\u001b[39mlevel)\n\u001b[1;32m    279\u001b[0m t2 \u001b[38;5;241m=\u001b[39m time\u001b[38;5;241m.\u001b[39mtime()\n\u001b[1;32m    280\u001b[0m \u001b[38;5;28mself\u001b[39m\u001b[38;5;241m.\u001b[39mpbar\u001b[38;5;241m.\u001b[39mclose()\n",
      "File \u001b[0;32m~/Desktop/NTK4NAS/MCTS/nested.py:262\u001b[0m, in \u001b[0;36mNRPA.nrpa\u001b[0;34m(self, node, level)\u001b[0m\n\u001b[1;32m    260\u001b[0m \u001b[38;5;28;01mfor\u001b[39;00m i \u001b[38;5;129;01min\u001b[39;00m \u001b[38;5;28mrange\u001b[39m(\u001b[38;5;28mself\u001b[39m\u001b[38;5;241m.\u001b[39mn_iter):\n\u001b[1;32m    261\u001b[0m     t1 \u001b[38;5;241m=\u001b[39m time\u001b[38;5;241m.\u001b[39mtime()\n\u001b[0;32m--> 262\u001b[0m     reward, sequence \u001b[38;5;241m=\u001b[39m \u001b[38;5;28mself\u001b[39m\u001b[38;5;241m.\u001b[39mnrpa(node, level \u001b[38;5;241m-\u001b[39m \u001b[38;5;241m1\u001b[39m)\n\u001b[1;32m    263\u001b[0m     t2 \u001b[38;5;241m=\u001b[39m time\u001b[38;5;241m.\u001b[39mtime()\n\u001b[1;32m    264\u001b[0m     \u001b[38;5;66;03m# if level == 2:\u001b[39;00m\n\u001b[1;32m    265\u001b[0m     \u001b[38;5;66;03m#     print(f\"NRPA search at level {level - 1} has taken {(t2-t1):.2f} seconds\")\u001b[39;00m\n",
      "File \u001b[0;32m~/Desktop/NTK4NAS/MCTS/nested.py:262\u001b[0m, in \u001b[0;36mNRPA.nrpa\u001b[0;34m(self, node, level)\u001b[0m\n\u001b[1;32m    260\u001b[0m \u001b[38;5;28;01mfor\u001b[39;00m i \u001b[38;5;129;01min\u001b[39;00m \u001b[38;5;28mrange\u001b[39m(\u001b[38;5;28mself\u001b[39m\u001b[38;5;241m.\u001b[39mn_iter):\n\u001b[1;32m    261\u001b[0m     t1 \u001b[38;5;241m=\u001b[39m time\u001b[38;5;241m.\u001b[39mtime()\n\u001b[0;32m--> 262\u001b[0m     reward, sequence \u001b[38;5;241m=\u001b[39m \u001b[38;5;28mself\u001b[39m\u001b[38;5;241m.\u001b[39mnrpa(node, level \u001b[38;5;241m-\u001b[39m \u001b[38;5;241m1\u001b[39m)\n\u001b[1;32m    263\u001b[0m     t2 \u001b[38;5;241m=\u001b[39m time\u001b[38;5;241m.\u001b[39mtime()\n\u001b[1;32m    264\u001b[0m     \u001b[38;5;66;03m# if level == 2:\u001b[39;00m\n\u001b[1;32m    265\u001b[0m     \u001b[38;5;66;03m#     print(f\"NRPA search at level {level - 1} has taken {(t2-t1):.2f} seconds\")\u001b[39;00m\n",
      "File \u001b[0;32m~/Desktop/NTK4NAS/MCTS/nested.py:262\u001b[0m, in \u001b[0;36mNRPA.nrpa\u001b[0;34m(self, node, level)\u001b[0m\n\u001b[1;32m    260\u001b[0m \u001b[38;5;28;01mfor\u001b[39;00m i \u001b[38;5;129;01min\u001b[39;00m \u001b[38;5;28mrange\u001b[39m(\u001b[38;5;28mself\u001b[39m\u001b[38;5;241m.\u001b[39mn_iter):\n\u001b[1;32m    261\u001b[0m     t1 \u001b[38;5;241m=\u001b[39m time\u001b[38;5;241m.\u001b[39mtime()\n\u001b[0;32m--> 262\u001b[0m     reward, sequence \u001b[38;5;241m=\u001b[39m \u001b[38;5;28mself\u001b[39m\u001b[38;5;241m.\u001b[39mnrpa(node, level \u001b[38;5;241m-\u001b[39m \u001b[38;5;241m1\u001b[39m)\n\u001b[1;32m    263\u001b[0m     t2 \u001b[38;5;241m=\u001b[39m time\u001b[38;5;241m.\u001b[39mtime()\n\u001b[1;32m    264\u001b[0m     \u001b[38;5;66;03m# if level == 2:\u001b[39;00m\n\u001b[1;32m    265\u001b[0m     \u001b[38;5;66;03m#     print(f\"NRPA search at level {level - 1} has taken {(t2-t1):.2f} seconds\")\u001b[39;00m\n",
      "File \u001b[0;32m~/Desktop/NTK4NAS/MCTS/nested.py:243\u001b[0m, in \u001b[0;36mNRPA.nrpa\u001b[0;34m(self, node, level)\u001b[0m\n\u001b[1;32m    218\u001b[0m \u001b[38;5;28mself\u001b[39m\u001b[38;5;241m.\u001b[39mpbar\u001b[38;5;241m.\u001b[39mset_description(\u001b[38;5;124mf\u001b[39m\u001b[38;5;124m\"\u001b[39m\u001b[38;5;124mCurrent best reward : \u001b[39m\u001b[38;5;132;01m{\u001b[39;00m\u001b[38;5;28mself\u001b[39m\u001b[38;5;241m.\u001b[39mbest_reward_value\u001b[38;5;132;01m:\u001b[39;00m\u001b[38;5;124m.4f\u001b[39m\u001b[38;5;132;01m}\u001b[39;00m\u001b[38;5;124m\"\u001b[39m)\n\u001b[1;32m    219\u001b[0m \u001b[38;5;66;03m# if (len(self.rewards)+1) % 1000 == 0:\u001b[39;00m\n\u001b[1;32m    220\u001b[0m \u001b[38;5;66;03m#     f, ax = plt.subplots(1,1)\u001b[39;00m\n\u001b[1;32m    221\u001b[0m \u001b[38;5;66;03m#     ax.plot(running_avg(self.rewards, 10))\u001b[39;00m\n\u001b[0;32m   (...)\u001b[0m\n\u001b[1;32m    240\u001b[0m \u001b[38;5;66;03m#     plt.close(f)\u001b[39;00m\n\u001b[1;32m    241\u001b[0m \u001b[38;5;66;03m#     print(f\"[{len(self.rewards)}/{self.n_iter ** self.level}] Best reward: {self.best_reward_value}\")\u001b[39;00m\n\u001b[0;32m--> 243\u001b[0m score, sequence \u001b[38;5;241m=\u001b[39m \u001b[38;5;28mself\u001b[39m\u001b[38;5;241m.\u001b[39m_playout(\u001b[38;5;28mself\u001b[39m\u001b[38;5;241m.\u001b[39mroot)\n\u001b[1;32m    244\u001b[0m \u001b[38;5;28mself\u001b[39m\u001b[38;5;241m.\u001b[39mrewards\u001b[38;5;241m.\u001b[39mappend(score)\n\u001b[1;32m    245\u001b[0m \u001b[38;5;28;01mif\u001b[39;00m score \u001b[38;5;241m>\u001b[39m \u001b[38;5;28mself\u001b[39m\u001b[38;5;241m.\u001b[39mbest_reward_value:\n",
      "File \u001b[0;32m~/Desktop/NTK4NAS/MCTS/nested.py:209\u001b[0m, in \u001b[0;36mNRPA._playout\u001b[0;34m(self, node)\u001b[0m\n\u001b[1;32m    206\u001b[0m     playout_node\u001b[38;5;241m.\u001b[39mplay_action(action)\n\u001b[1;32m    207\u001b[0m     playout_node\u001b[38;5;241m.\u001b[39mhash \u001b[38;5;241m=\u001b[39m playout_node\u001b[38;5;241m.\u001b[39mcalculate_zobrist_hash(\u001b[38;5;28mself\u001b[39m\u001b[38;5;241m.\u001b[39mzobrist_table)\n\u001b[0;32m--> 209\u001b[0m reward \u001b[38;5;241m=\u001b[39m \u001b[38;5;28mself\u001b[39m\u001b[38;5;241m.\u001b[39m_get_reward(playout_node)\n\u001b[1;32m    211\u001b[0m \u001b[38;5;28;01mdel\u001b[39;00m playout_node\n\u001b[1;32m    212\u001b[0m \u001b[38;5;28;01mreturn\u001b[39;00m reward, sequence\n",
      "File \u001b[0;32m~/Desktop/NTK4NAS/search_spaces/nats_bench_dataset/NATSBenchMCTS.py:41\u001b[0m, in \u001b[0;36mNATSBenchUCT._get_reward\u001b[0;34m(self, node)\u001b[0m\n\u001b[1;32m     39\u001b[0m idx \u001b[38;5;241m=\u001b[39m \u001b[38;5;28mself\u001b[39m\u001b[38;5;241m.\u001b[39mapi\u001b[38;5;241m.\u001b[39mquery_index_by_arch(arch_str)\n\u001b[1;32m     40\u001b[0m row \u001b[38;5;241m=\u001b[39m \u001b[38;5;28mself\u001b[39m\u001b[38;5;241m.\u001b[39mdf\u001b[38;5;241m.\u001b[39mloc[\u001b[38;5;28mself\u001b[39m\u001b[38;5;241m.\u001b[39mdf[\u001b[38;5;124m\"\u001b[39m\u001b[38;5;124mindex\u001b[39m\u001b[38;5;124m\"\u001b[39m] \u001b[38;5;241m==\u001b[39m idx]\n\u001b[0;32m---> 41\u001b[0m reward \u001b[38;5;241m=\u001b[39m row[\u001b[38;5;28mself\u001b[39m\u001b[38;5;241m.\u001b[39mmetric]\u001b[38;5;241m.\u001b[39mitem()\n\u001b[1;32m     42\u001b[0m ntk \u001b[38;5;241m=\u001b[39m row[\u001b[38;5;124m\"\u001b[39m\u001b[38;5;124mscore\u001b[39m\u001b[38;5;124m\"\u001b[39m]\u001b[38;5;241m.\u001b[39mitem()\n\u001b[1;32m     43\u001b[0m \u001b[38;5;66;03m# if reward > self.best_reward_value:\u001b[39;00m\n\u001b[1;32m     44\u001b[0m \u001b[38;5;66;03m#     self.best_accuracy = row[\"accuracy\"].item()\u001b[39;00m\n\u001b[1;32m     45\u001b[0m \u001b[38;5;66;03m# self.accuracies_tracker.append(self.best_accuracy)\u001b[39;00m\n",
      "File \u001b[0;32m~/anaconda3/lib/python3.11/site-packages/pandas/core/frame.py:3761\u001b[0m, in \u001b[0;36mDataFrame.__getitem__\u001b[0;34m(self, key)\u001b[0m\n\u001b[1;32m   3759\u001b[0m \u001b[38;5;28;01mif\u001b[39;00m \u001b[38;5;28mself\u001b[39m\u001b[38;5;241m.\u001b[39mcolumns\u001b[38;5;241m.\u001b[39mnlevels \u001b[38;5;241m>\u001b[39m \u001b[38;5;241m1\u001b[39m:\n\u001b[1;32m   3760\u001b[0m     \u001b[38;5;28;01mreturn\u001b[39;00m \u001b[38;5;28mself\u001b[39m\u001b[38;5;241m.\u001b[39m_getitem_multilevel(key)\n\u001b[0;32m-> 3761\u001b[0m indexer \u001b[38;5;241m=\u001b[39m \u001b[38;5;28mself\u001b[39m\u001b[38;5;241m.\u001b[39mcolumns\u001b[38;5;241m.\u001b[39mget_loc(key)\n\u001b[1;32m   3762\u001b[0m \u001b[38;5;28;01mif\u001b[39;00m is_integer(indexer):\n\u001b[1;32m   3763\u001b[0m     indexer \u001b[38;5;241m=\u001b[39m [indexer]\n",
      "File \u001b[0;32m~/anaconda3/lib/python3.11/site-packages/pandas/core/indexes/base.py:3655\u001b[0m, in \u001b[0;36mIndex.get_loc\u001b[0;34m(self, key)\u001b[0m\n\u001b[1;32m   3653\u001b[0m     \u001b[38;5;28;01mreturn\u001b[39;00m \u001b[38;5;28mself\u001b[39m\u001b[38;5;241m.\u001b[39m_engine\u001b[38;5;241m.\u001b[39mget_loc(casted_key)\n\u001b[1;32m   3654\u001b[0m \u001b[38;5;28;01mexcept\u001b[39;00m \u001b[38;5;167;01mKeyError\u001b[39;00m \u001b[38;5;28;01mas\u001b[39;00m err:\n\u001b[0;32m-> 3655\u001b[0m     \u001b[38;5;28;01mraise\u001b[39;00m \u001b[38;5;167;01mKeyError\u001b[39;00m(key) \u001b[38;5;28;01mfrom\u001b[39;00m \u001b[38;5;21;01merr\u001b[39;00m\n\u001b[1;32m   3656\u001b[0m \u001b[38;5;28;01mexcept\u001b[39;00m \u001b[38;5;167;01mTypeError\u001b[39;00m:\n\u001b[1;32m   3657\u001b[0m     \u001b[38;5;66;03m# If we have a listlike key, _check_indexing_error will raise\u001b[39;00m\n\u001b[1;32m   3658\u001b[0m     \u001b[38;5;66;03m#  InvalidIndexError. Otherwise we fall through and re-raise\u001b[39;00m\n\u001b[1;32m   3659\u001b[0m     \u001b[38;5;66;03m#  the TypeError.\u001b[39;00m\n\u001b[1;32m   3660\u001b[0m     \u001b[38;5;28mself\u001b[39m\u001b[38;5;241m.\u001b[39m_check_indexing_error(key)\n",
      "\u001b[0;31mKeyError\u001b[0m: 'score_synflow'"
     ]
    }
   ],
   "source": [
    "nats_bench_df = pd.read_csv(\"benchmark_scores/Cifar10-NATS.csv\")\n",
    "params = datasets[\"nats_bench\"]\n",
    "accs_synflow = []\n",
    "ntks_synflow = []\n",
    "for i in range(params[\"n_runs\"]):\n",
    "    print(f\"Run {i+1} / {params['n_runs']}\")\n",
    "\n",
    "    root_node_nrpa = NATSBenchSizeNestedNode(sequence=[])\n",
    "    nrpa = NATSBenchNRPA(root_node_nrpa,\n",
    "                         params[\"nrpa_level\"],\n",
    "                         api=params[\"api\"],\n",
    "                         df=nats_bench_df,\n",
    "                         params_path=\"utils/params.json\",\n",
    "                         disable_tqdm=False)\n",
    "    nrpa.n_iter = int(np.ceil(np.power(params[\"n_iter\"], 1/params[\"nrpa_level\"])))\n",
    "    nrpa.alpha = params[\"nrpa_alpha\"]\n",
    "    nrpa.softmax_temp=2\n",
    "    nrpa.metric = \"score_synflow\"\n",
    "    a, b, c = nrpa.main_loop()\n",
    "    accs_synflow.append(nrpa.accuracies_tracker)\n",
    "    ntks_synflow.append(nrpa.best_reward)"
   ]
  },
  {
   "cell_type": "code",
   "execution_count": null,
   "id": "cd5d5dc7-84fd-4ee0-90ac-98221301f34c",
   "metadata": {
    "collapsed": true,
    "jupyter": {
     "outputs_hidden": true,
     "source_hidden": true
    }
   },
   "outputs": [],
   "source": [
    "f, ax1 = plt.subplots()\n",
    "ax1.plot(normalize(np.mean(np.array(ntks_synflow), axis=0)), label=\"NTK Metric\", color=\"#3d405b\")\n",
    "ax1.set_ylabel(\"NTK Metric\")\n",
    "\n",
    "ax2 = ax1.twinx()\n",
    "ax2.plot(np.mean(np.array(accs_synflow), axis=0), label=\"Accuracy\", color=\"#e07a5f\")\n",
    "ax2.set_ylabel(\"CIFAR-100 accuracy\")\n",
    "\n",
    "plt.title(\"Evolution of the best architecture reward \\n SynFlow Score\"); plt.xlabel(\"Iteration\"); plt.ylabel(\"CIFAR-10 accuracy\"); \n",
    "plt.legend();\n",
    "\n",
    "plt.xlim([-20,800])\n",
    "plt.savefig(\"figures/search_nrpa_synflow_nats.png\")\n",
    "plt.show()"
   ]
  },
  {
   "cell_type": "code",
   "execution_count": null,
   "id": "2b296396-e075-44b8-9da1-85035aef5915",
   "metadata": {
    "scrolled": true
   },
   "outputs": [],
   "source": [
    "nats_bench_df = pd.read_csv(\"GOOD_CSV/Cifar10-NATS.csv\")\n",
    "params = datasets[\"nats_bench\"]\n",
    "accs_ntk = []\n",
    "ntks_ntk = []\n",
    "for i in range(params[\"n_runs\"]):\n",
    "    print(f\"Run {i+1} / {params['n_runs']}\")\n",
    "\n",
    "    root_node_nrpa = NATSBenchSizeNestedNode(sequence=[])\n",
    "    nrpa = NATSBenchNRPA(root_node_nrpa,\n",
    "                         params[\"nrpa_level\"],\n",
    "                         api=params[\"api\"],\n",
    "                         df=nats_bench_df,\n",
    "                         params_path=\"utils/params.json\",\n",
    "                         disable_tqdm=False)\n",
    "    nrpa.n_iter = int(np.ceil(np.power(params[\"n_iter\"], 1/params[\"nrpa_level\"])))\n",
    "    nrpa.alpha = params[\"nrpa_alpha\"]\n",
    "    nrpa.softmax_temp=2\n",
    "    nrpa.metric = \"score\"\n",
    "    a, b, c = nrpa.main_loop()\n",
    "    accs_ntk.append(nrpa.accuracies_tracker)\n",
    "    ntks_ntk.append(nrpa.best_reward)"
   ]
  },
  {
   "cell_type": "code",
   "execution_count": null,
   "id": "a78fe617-0c34-45e7-82e7-b714f465dfce",
   "metadata": {
    "collapsed": true,
    "jupyter": {
     "outputs_hidden": true,
     "source_hidden": true
    }
   },
   "outputs": [],
   "source": [
    "f, ax1 = plt.subplots()\n",
    "ax1.plot(normalize(np.mean(np.array(ntks_ntk), axis=0)), label=\"NTK Metric\", color=\"#3d405b\")\n",
    "ax1.set_ylabel(\"NTK Metric\")\n",
    "\n",
    "ax2 = ax1.twinx()\n",
    "ax2.plot(np.mean(np.array(accs_ntk), axis=0), label=\"Accuracy\", color=\"#e07a5f\")\n",
    "ax2.set_ylabel(\"CIFAR-100 accuracy\")\n",
    "\n",
    "plt.title(\"Evolution of the best architecture reward \\n NTK Score\"); plt.xlabel(\"Iteration\"); plt.ylabel(\"CIFAR-10 accuracy\"); \n",
    "plt.legend();\n",
    "\n",
    "plt.xlim([-20,800])\n",
    "plt.savefig(\"figures/search_nrpa_ntk_nats.png\")\n",
    "plt.show()"
   ]
  },
  {
   "cell_type": "code",
   "execution_count": null,
   "id": "091cc257-b8d7-4a8b-b0c8-30931c37d906",
   "metadata": {
    "scrolled": true
   },
   "outputs": [],
   "source": [
    "nats_bench_df = pd.read_csv(\"GOOD_CSV/Cifar10-NATS.csv\")\n",
    "params = datasets[\"nats_bench\"]\n",
    "accs_nasi = []\n",
    "ntks_nasi = []\n",
    "for i in range(params[\"n_runs\"]):\n",
    "    print(f\"Run {i+1} / {params['n_runs']}\")\n",
    "\n",
    "    root_node_nrpa = NATSBenchSizeNestedNode(sequence=[])\n",
    "    nrpa = NATSBenchNRPA(root_node_nrpa,\n",
    "                         params[\"nrpa_level\"],\n",
    "                         api=params[\"api\"],\n",
    "                         df=nats_bench_df,\n",
    "                         params_path=\"utils/params.json\",\n",
    "                         disable_tqdm=False)\n",
    "    nrpa.n_iter = int(np.ceil(np.power(params[\"n_iter\"], 1/params[\"nrpa_level\"])))\n",
    "    nrpa.alpha = params[\"nrpa_alpha\"]\n",
    "    nrpa.softmax_temp=2\n",
    "    nrpa.metric = \"score_nasi\"\n",
    "    a, b, c = nrpa.main_loop()\n",
    "    accs_nasi.append(nrpa.accuracies_tracker)\n",
    "    ntks_nasi.append(nrpa.best_reward)"
   ]
  },
  {
   "cell_type": "code",
   "execution_count": null,
   "id": "bc0947ca-212a-476a-a080-47c70db97ccb",
   "metadata": {
    "collapsed": true,
    "jupyter": {
     "outputs_hidden": true,
     "source_hidden": true
    }
   },
   "outputs": [],
   "source": [
    "f, ax1 = plt.subplots()\n",
    "ax1.plot(normalize(np.mean(np.array(ntks_nasi), axis=0)), label=\"NTK Metric\", color=\"#3d405b\")\n",
    "ax1.set_ylabel(\"NTK Metric\")\n",
    "\n",
    "ax2 = ax1.twinx()\n",
    "ax2.plot(np.mean(np.array(accs_nasi), axis=0), label=\"Accuracy\", color=\"#e07a5f\")\n",
    "ax2.set_ylabel(\"CIFAR-100 accuracy\")\n",
    "\n",
    "plt.title(\"Evolution of the best architecture reward \\n NTK Score\"); plt.xlabel(\"Iteration\"); plt.ylabel(\"CIFAR-10 accuracy\"); \n",
    "plt.legend();\n",
    "\n",
    "plt.xlim([-20,800])\n",
    "plt.savefig(\"figures/search_nrpa_nasi_nats.png\")\n",
    "plt.show()"
   ]
  },
  {
   "cell_type": "code",
   "execution_count": null,
   "id": "7fd02410-fcab-42d6-a7af-be5653a1141e",
   "metadata": {},
   "outputs": [],
   "source": [
    "f, ax = plt.subplots(1,3, figsize=(15,5))\n",
    "#MONET \n",
    "ax[0].plot(normalize(np.mean(np.array(ntks_ntk), axis=0)), label=\"NTK Metric\", color=sns.color_palette()[0])\n",
    "ax[0].set_ylabel(\"NTK Metric\")\n",
    "\n",
    "ax0 = ax[0].twinx()\n",
    "ax0.plot(np.mean(np.array(accs_ntk), axis=0), label=\"Accuracy\", color=sns.color_palette()[1])\n",
    "\n",
    "# NASI\n",
    "ax[1].plot(normalize(np.mean(np.array(ntks_nasi), axis=0)), label=\"NTK Metric\", color=sns.color_palette()[0])\n",
    "\n",
    "ax1 = ax[1].twinx()\n",
    "ax1.plot(np.mean(np.array(accs_nasi), axis=0), label=\"Accuracy\", color=sns.color_palette()[1])\n",
    "\n",
    "# NASWOT\n",
    "ax[2].plot(normalize(np.mean(np.array(ntks_synflow), axis=0)), label=\"NTK Metric\", color=sns.color_palette()[0])\n",
    "\n",
    "ax2 = ax[2].twinx()\n",
    "ax2.plot(np.mean(np.array(accs_synflow), axis=0), label=\"Accuracy\", color=sns.color_palette()[1])\n",
    "ax2.set_ylabel(\"CIFAR-100 accuracy\")\n",
    "\n",
    "ax[0].set_ylabel(\"NTK Metric\"); ax[1].set_ylabel(\"\"), ax[2].set_ylabel(\"\"); ax2.set_ylabel(\"Accuracy\")\n",
    "ax[0].set_title(\"MONET\"); ax[1].set_title(\"NASI\"); ax[2].set_title(\"SynFlow\")\n",
    "\n",
    "ax[0].set_xlabel(\"# of network evaluations\"); ax[1].set_xlabel(\"# of network evaluations\"), ax[2].set_xlabel(\"# of network evaluations\")\n",
    "ax0.set_ylim([90, 93.5]); ax1.set_ylim([90, 93.5]); ax2.set_ylim([90, 93.5])\n",
    "# ax0.set_yticks([]); ax1.set_yticks([])\n",
    "# ax[1].set_yticks([]); ax[2].set_yticks([])\n",
    "f.suptitle(\"Training-free achitecture search - NATS\")\n",
    "plt.tight_layout()\n",
    "plt.savefig(\"figures/search_monet_vs_gradient_nats.png\")\n",
    "plt.show()"
   ]
  },
  {
   "cell_type": "markdown",
   "id": "e9e0a945-31fe-4225-8b0d-7c7e55785f99",
   "metadata": {},
   "source": [
    "## NRPA vs Permutation NRPA"
   ]
  },
  {
   "cell_type": "markdown",
   "id": "6843df0c-6011-4265-84a4-aa7538c827aa",
   "metadata": {},
   "source": [
    "### On NAS-Bench-201"
   ]
  },
  {
   "cell_type": "code",
   "execution_count": 29,
   "id": "4c7d6903-927a-456c-82d9-7ca3c01df4fe",
   "metadata": {},
   "outputs": [],
   "source": [
    "class NoPermutation201NRPA(NASBench201NRPA):\n",
    "\n",
    "    def __init__(self, root_node: NASBench201NestedNode, level, api, save_folder=None, params_path=None,\n",
    "                 disable_tqdm=False, df=None):\n",
    "        super().__init__(root_node, level, api, save_folder, params_path,\n",
    "                 disable_tqdm, df)\n",
    "\n",
    "    def _code(self, node, move):\n",
    "\n",
    "        if move == None:\n",
    "            ### SEULEMENT POUR LA RACINE DE L'ARBRE A PRIORI\n",
    "            return node.hash\n",
    "\n",
    "        state_code = node.hash\n",
    "        code = str(state_code) \n",
    "        for i in range(len(move)):\n",
    "            code = code + str(move[i])\n",
    "\n",
    "        return code"
   ]
  },
  {
   "cell_type": "code",
   "execution_count": 30,
   "id": "b623f89c-78c1-481f-8f5e-b5cc0ac6d267",
   "metadata": {},
   "outputs": [
    {
     "name": "stdout",
     "output_type": "stream",
     "text": [
      "RUN N° 1/10\n"
     ]
    },
    {
     "name": "stderr",
     "output_type": "stream",
     "text": [
      "Current best reward : 0.7349: 100%|██████████| 1000/1000 [00:01<00:00, 558.59it/s]\n"
     ]
    },
    {
     "name": "stdout",
     "output_type": "stream",
     "text": [
      "Sequence is [(2, 1, 'nor_conv_3x3'), (3, 0, 'skip_connect'), (3, 2, 'nor_conv_3x3'), (3, 1, 'nor_conv_3x3'), (1, 0, 'nor_conv_3x3'), (2, 0, 'nor_conv_3x3')] with score 0.734933333577474\n"
     ]
    },
    {
     "name": "stderr",
     "output_type": "stream",
     "text": [
      "Current best reward : 0.7309: 100%|██████████| 1000/1000 [00:02<00:00, 493.92it/s]\n"
     ]
    },
    {
     "name": "stdout",
     "output_type": "stream",
     "text": [
      "Sequence is [(3, 0, 'skip_connect'), (3, 1, 'nor_conv_1x1'), (2, 0, 'nor_conv_3x3'), (1, 0, 'nor_conv_3x3'), (2, 1, 'none'), (3, 2, 'nor_conv_3x3')] with score 0.7308666667073568\n",
      "RUN N° 2/10\n"
     ]
    },
    {
     "name": "stderr",
     "output_type": "stream",
     "text": [
      "Current best reward : 0.7349: 100%|██████████| 1000/1000 [00:01<00:00, 546.28it/s]\n"
     ]
    },
    {
     "name": "stdout",
     "output_type": "stream",
     "text": [
      "Sequence is [(3, 1, 'nor_conv_3x3'), (2, 1, 'nor_conv_3x3'), (3, 2, 'nor_conv_3x3'), (1, 0, 'nor_conv_3x3'), (2, 0, 'nor_conv_3x3'), (3, 0, 'skip_connect')] with score 0.734933333577474\n"
     ]
    },
    {
     "name": "stderr",
     "output_type": "stream",
     "text": [
      "Current best reward : 0.7302: 100%|██████████| 1000/1000 [00:01<00:00, 516.63it/s]\n"
     ]
    },
    {
     "name": "stdout",
     "output_type": "stream",
     "text": [
      "Sequence is [(2, 1, 'skip_connect'), (2, 0, 'nor_conv_3x3'), (3, 0, 'skip_connect'), (1, 0, 'nor_conv_3x3'), (3, 1, 'nor_conv_3x3'), (3, 2, 'nor_conv_1x1')] with score 0.7301999998779297\n",
      "RUN N° 3/10\n"
     ]
    },
    {
     "name": "stderr",
     "output_type": "stream",
     "text": [
      "Current best reward : 0.7349: 100%|██████████| 1000/1000 [00:01<00:00, 546.54it/s]\n"
     ]
    },
    {
     "name": "stdout",
     "output_type": "stream",
     "text": [
      "Sequence is [(3, 0, 'skip_connect'), (2, 0, 'nor_conv_3x3'), (2, 1, 'nor_conv_3x3'), (3, 2, 'nor_conv_3x3'), (1, 0, 'nor_conv_3x3'), (3, 1, 'nor_conv_3x3')] with score 0.734933333577474\n"
     ]
    },
    {
     "name": "stderr",
     "output_type": "stream",
     "text": [
      "Current best reward : 0.7313: 100%|██████████| 1000/1000 [00:01<00:00, 504.59it/s]\n"
     ]
    },
    {
     "name": "stdout",
     "output_type": "stream",
     "text": [
      "Sequence is [(3, 0, 'skip_connect'), (3, 1, 'nor_conv_3x3'), (2, 0, 'nor_conv_1x1'), (3, 2, 'nor_conv_3x3'), (1, 0, 'nor_conv_3x3'), (2, 1, 'nor_conv_3x3')] with score 0.7312666664632163\n",
      "RUN N° 4/10\n"
     ]
    },
    {
     "name": "stderr",
     "output_type": "stream",
     "text": [
      "Current best reward : 0.7349: 100%|██████████| 1000/1000 [00:01<00:00, 520.96it/s]\n"
     ]
    },
    {
     "name": "stdout",
     "output_type": "stream",
     "text": [
      "Sequence is [(3, 0, 'skip_connect'), (2, 1, 'nor_conv_3x3'), (3, 1, 'nor_conv_3x3'), (2, 0, 'nor_conv_3x3'), (3, 2, 'nor_conv_3x3'), (1, 0, 'nor_conv_3x3')] with score 0.734933333577474\n"
     ]
    },
    {
     "name": "stderr",
     "output_type": "stream",
     "text": [
      "Current best reward : 0.7277: 100%|██████████| 1000/1000 [00:02<00:00, 494.10it/s]\n"
     ]
    },
    {
     "name": "stdout",
     "output_type": "stream",
     "text": [
      "Sequence is [(1, 0, 'nor_conv_1x1'), (2, 1, 'nor_conv_3x3'), (3, 0, 'skip_connect'), (3, 1, 'nor_conv_3x3'), (3, 2, 'nor_conv_3x3'), (2, 0, 'nor_conv_3x3')] with score 0.7277333328857423\n",
      "RUN N° 5/10\n"
     ]
    },
    {
     "name": "stderr",
     "output_type": "stream",
     "text": [
      "Current best reward : 0.7349: 100%|██████████| 1000/1000 [00:01<00:00, 539.38it/s]\n"
     ]
    },
    {
     "name": "stdout",
     "output_type": "stream",
     "text": [
      "Sequence is [(3, 1, 'nor_conv_3x3'), (1, 0, 'nor_conv_3x3'), (3, 0, 'skip_connect'), (2, 0, 'nor_conv_3x3'), (3, 2, 'nor_conv_3x3'), (2, 1, 'nor_conv_3x3')] with score 0.734933333577474\n"
     ]
    },
    {
     "name": "stderr",
     "output_type": "stream",
     "text": [
      "Current best reward : 0.7331: 100%|██████████| 1000/1000 [00:01<00:00, 500.27it/s]\n"
     ]
    },
    {
     "name": "stdout",
     "output_type": "stream",
     "text": [
      "Sequence is [(2, 0, 'nor_conv_3x3'), (1, 0, 'nor_conv_3x3'), (3, 2, 'nor_conv_3x3'), (3, 1, 'nor_conv_1x1'), (2, 1, 'nor_conv_3x3'), (3, 0, 'skip_connect')] with score 0.7330666659749348\n",
      "RUN N° 6/10\n"
     ]
    },
    {
     "name": "stderr",
     "output_type": "stream",
     "text": [
      "Current best reward : 0.7349: 100%|██████████| 1000/1000 [00:01<00:00, 532.58it/s]\n"
     ]
    },
    {
     "name": "stdout",
     "output_type": "stream",
     "text": [
      "Sequence is [(3, 2, 'nor_conv_3x3'), (3, 0, 'skip_connect'), (3, 1, 'nor_conv_3x3'), (2, 0, 'nor_conv_3x3'), (2, 1, 'nor_conv_3x3'), (1, 0, 'nor_conv_3x3')] with score 0.734933333577474\n"
     ]
    },
    {
     "name": "stderr",
     "output_type": "stream",
     "text": [
      "Current best reward : 0.7349: 100%|██████████| 1000/1000 [00:01<00:00, 504.32it/s]\n"
     ]
    },
    {
     "name": "stdout",
     "output_type": "stream",
     "text": [
      "Sequence is [(3, 1, 'nor_conv_3x3'), (2, 0, 'nor_conv_3x3'), (1, 0, 'nor_conv_3x3'), (3, 2, 'nor_conv_3x3'), (3, 0, 'skip_connect'), (2, 1, 'nor_conv_3x3')] with score 0.734933333577474\n",
      "RUN N° 7/10\n"
     ]
    },
    {
     "name": "stderr",
     "output_type": "stream",
     "text": [
      "Current best reward : 0.7349: 100%|██████████| 1000/1000 [00:01<00:00, 544.71it/s]\n"
     ]
    },
    {
     "name": "stdout",
     "output_type": "stream",
     "text": [
      "Sequence is [(3, 2, 'nor_conv_3x3'), (2, 1, 'nor_conv_3x3'), (2, 0, 'nor_conv_3x3'), (1, 0, 'nor_conv_3x3'), (3, 1, 'nor_conv_3x3'), (3, 0, 'skip_connect')] with score 0.734933333577474\n"
     ]
    },
    {
     "name": "stderr",
     "output_type": "stream",
     "text": [
      "Current best reward : 0.7253: 100%|██████████| 1000/1000 [00:01<00:00, 510.13it/s]\n"
     ]
    },
    {
     "name": "stdout",
     "output_type": "stream",
     "text": [
      "Sequence is [(1, 0, 'nor_conv_3x3'), (2, 1, 'nor_conv_3x3'), (3, 1, 'none'), (3, 0, 'skip_connect'), (3, 2, 'nor_conv_3x3'), (2, 0, 'nor_conv_1x1')] with score 0.7252999996337891\n",
      "RUN N° 8/10\n"
     ]
    },
    {
     "name": "stderr",
     "output_type": "stream",
     "text": [
      "Current best reward : 0.7349: 100%|██████████| 1000/1000 [00:01<00:00, 549.93it/s]\n"
     ]
    },
    {
     "name": "stdout",
     "output_type": "stream",
     "text": [
      "Sequence is [(3, 1, 'nor_conv_3x3'), (2, 0, 'nor_conv_3x3'), (3, 2, 'nor_conv_3x3'), (3, 0, 'skip_connect'), (2, 1, 'nor_conv_3x3'), (1, 0, 'nor_conv_3x3')] with score 0.734933333577474\n"
     ]
    },
    {
     "name": "stderr",
     "output_type": "stream",
     "text": [
      "Current best reward : 0.7349: 100%|██████████| 1000/1000 [00:01<00:00, 510.79it/s]\n"
     ]
    },
    {
     "name": "stdout",
     "output_type": "stream",
     "text": [
      "Sequence is [(3, 2, 'nor_conv_3x3'), (3, 0, 'skip_connect'), (1, 0, 'nor_conv_3x3'), (2, 0, 'nor_conv_3x3'), (2, 1, 'nor_conv_3x3'), (3, 1, 'nor_conv_3x3')] with score 0.734933333577474\n",
      "RUN N° 9/10\n"
     ]
    },
    {
     "name": "stderr",
     "output_type": "stream",
     "text": [
      "Current best reward : 0.7349: 100%|██████████| 1000/1000 [00:01<00:00, 517.98it/s]\n"
     ]
    },
    {
     "name": "stdout",
     "output_type": "stream",
     "text": [
      "Sequence is [(2, 0, 'nor_conv_3x3'), (3, 0, 'skip_connect'), (2, 1, 'nor_conv_3x3'), (3, 1, 'nor_conv_3x3'), (1, 0, 'nor_conv_3x3'), (3, 2, 'nor_conv_3x3')] with score 0.734933333577474\n"
     ]
    },
    {
     "name": "stderr",
     "output_type": "stream",
     "text": [
      "Current best reward : 0.7302: 100%|██████████| 1000/1000 [00:01<00:00, 530.23it/s]\n"
     ]
    },
    {
     "name": "stdout",
     "output_type": "stream",
     "text": [
      "Sequence is [(3, 1, 'nor_conv_3x3'), (3, 2, 'nor_conv_1x1'), (1, 0, 'nor_conv_3x3'), (2, 0, 'nor_conv_3x3'), (3, 0, 'skip_connect'), (2, 1, 'skip_connect')] with score 0.7301999998779297\n",
      "RUN N° 10/10\n"
     ]
    },
    {
     "name": "stderr",
     "output_type": "stream",
     "text": [
      "Current best reward : 0.7349: 100%|██████████| 1000/1000 [00:01<00:00, 555.72it/s]\n"
     ]
    },
    {
     "name": "stdout",
     "output_type": "stream",
     "text": [
      "Sequence is [(3, 2, 'nor_conv_3x3'), (1, 0, 'nor_conv_3x3'), (3, 1, 'nor_conv_3x3'), (2, 0, 'nor_conv_3x3'), (2, 1, 'nor_conv_3x3'), (3, 0, 'skip_connect')] with score 0.734933333577474\n"
     ]
    },
    {
     "name": "stderr",
     "output_type": "stream",
     "text": [
      "Current best reward : 0.7217: 100%|██████████| 1000/1000 [00:01<00:00, 507.82it/s]"
     ]
    },
    {
     "name": "stdout",
     "output_type": "stream",
     "text": [
      "Sequence is [(3, 2, 'nor_conv_3x3'), (2, 1, 'nor_conv_3x3'), (2, 0, 'none'), (1, 0, 'nor_conv_1x1'), (3, 1, 'nor_conv_3x3'), (3, 0, 'skip_connect')] with score 0.7216999995117187\n"
     ]
    },
    {
     "name": "stderr",
     "output_type": "stream",
     "text": [
      "\n"
     ]
    }
   ],
   "source": [
    "methods = {\"NRPA\": [],\n",
    "           \"Permutation NRPA\": []}\n",
    "\n",
    "params = datasets[\"nas_bench_201\"]\n",
    "params[\"n_runs\"] = 10\n",
    "params[\"n_iter\"] = 1000\n",
    "\n",
    "for i in range(params[\"n_runs\"]):\n",
    "    print(f\"RUN N° {i+1}/{params['n_runs']}\")\n",
    "    \n",
    "    root_node_nrpa = NASBench201NestedNode(state=NASBench201Cell(4), sequence=[])\n",
    "    nrpa = NASBench201NRPA(root_node_nrpa,\n",
    "                           params[\"nrpa_level\"],\n",
    "                           api=params[\"api\"],\n",
    "                           params_path=\"utils/params.json\",\n",
    "                           disable_tqdm=False, \n",
    "                           df=nas_bench_201_df)\n",
    "    nrpa.n_iter = int(np.ceil(np.power(params[\"n_iter\"], 1/params[\"nrpa_level\"])))\n",
    "    nrpa.alpha = params[\"nrpa_alpha\"]\n",
    "    \n",
    "    root_node_nonrpa = NASBench201NestedNode(state=NASBench201Cell(4), sequence=[])\n",
    "    nonrpa = NoPermutation201NRPA(root_node_nonrpa,\n",
    "                           params[\"nrpa_level\"],\n",
    "                           api=params[\"api\"],\n",
    "                           params_path=\"utils/params.json\",\n",
    "                           disable_tqdm=False, \n",
    "                           df=nas_bench_201_df)\n",
    "    nonrpa.n_iter = int(np.ceil(np.power(params[\"n_iter\"], 1/params[\"nrpa_level\"])))\n",
    "    nonrpa.alpha = params[\"nrpa_alpha\"]\n",
    "    \n",
    "    \n",
    "    _, _, _ = nrpa.main_loop()\n",
    "    _, _, _ = nonrpa.main_loop()\n",
    "    \n",
    "    methods[\"NRPA\"].append(nonrpa.best_reward)\n",
    "    methods[\"Permutation NRPA\"].append(nrpa.best_reward)"
   ]
  },
  {
   "cell_type": "code",
   "execution_count": 32,
   "id": "d892d9f6-f009-4f3e-9999-3c66e743e4eb",
   "metadata": {},
   "outputs": [
    {
     "data": {
      "image/png": "[encoded data removed]",
      "text/plain": [
       "<Figure size 800x600 with 1 Axes>"
      ]
     },
     "metadata": {},
     "output_type": "display_data"
    }
   ],
   "source": [
    "f, ax = plt.subplots(1,1,figsize=(8,6))\n",
    "for name, results in methods.items():\n",
    "    ax.plot(np.mean(results, axis=0)[:datasets[\"nas_bench_201\"][\"n_iter\"]], label=name)\n",
    "plt.xlim(-datasets[\"nas_bench_201\"][\"n_iter\"]/30, datasets[\"nas_bench_201\"][\"n_iter\"]+(datasets[\"nas_bench_201\"][\"n_iter\"]/30))\n",
    "ax.set_ylabel(\"Accuracy\"); ax.set_xlabel(\"# of network evaluations\")\n",
    "f.suptitle(\"NAS-Bench-201\")\n",
    "ax.legend()\n",
    "plt.tight_layout()\n",
    "ax.legend()\n",
    "plt.savefig('figures/nrpaVSpermunrpa-nb201.png')"
   ]
  },
  {
   "cell_type": "markdown",
   "id": "3eee8bd1-cc92-42b4-a60c-dc8decb26176",
   "metadata": {},
   "source": [
    "### On NAS-Bench-301"
   ]
  },
  {
   "cell_type": "code",
   "execution_count": null,
   "id": "845a9dae-1357-4d8f-b6e5-9e5ae721f495",
   "metadata": {},
   "outputs": [],
   "source": [
    "class NoPermutation301NRPA(NASBench301NRPA):\n",
    "\n",
    "    def __init__(self, root_node: DARTSNestedNode, level, save_folder=None, params_path=None,\n",
    "                 disable_tqdm=False):\n",
    "        super().__init__(root_node, level, save_folder, params_path,\n",
    "                 disable_tqdm)\n",
    "\n",
    "    def _code(self, node, move):\n",
    "\n",
    "        if move == None:\n",
    "            ### SEULEMENT POUR LA RACINE DE L'ARBRE A PRIORI\n",
    "            return node.hash\n",
    "\n",
    "        state_code = node.hash\n",
    "        code = str(state_code) \n",
    "        for i in range(len(move)):\n",
    "            code = code + str(move[i])\n",
    "\n",
    "        return code"
   ]
  },
  {
   "cell_type": "code",
   "execution_count": null,
   "id": "67e2c53a-cc2d-4a1c-b951-7bcf5b746e78",
   "metadata": {
    "scrolled": true
   },
   "outputs": [],
   "source": [
    "methods = {\"NRPA\": [],\n",
    "           \"Permutation NRPA\": []}\n",
    "\n",
    "params = datasets[\"nas_bench_301\"]\n",
    "\n",
    "for i in range(params[\"n_runs\"]):\n",
    "    print(f\"RUN N° {i+1}/{params['n_runs']}\")\n",
    "    \n",
    "    root_node_nrpa = DARTSNestedNode((DARTSCell(), DARTSCell()), sequence=[])\n",
    "    nrpa = NASBench301NRPA(root_node_nrpa,\n",
    "                           params[\"nrpa_level\"],\n",
    "                           params_path=\"utils/params.json\",\n",
    "                           disable_tqdm=False)\n",
    "    nrpa.n_iter = int(np.ceil(np.power(params[\"n_iter\"], 1/params[\"nrpa_level\"])))\n",
    "    nrpa.alpha = params[\"nrpa_alpha\"]\n",
    "    \n",
    "    root_node_nonrpa = DARTSNestedNode((DARTSCell(), DARTSCell()), sequence=[])\n",
    "    nonrpa = NoPermutation301NRPA(root_node_nonrpa,\n",
    "                           params[\"nrpa_level\"],\n",
    "                           params_path=\"utils/params.json\",\n",
    "                           disable_tqdm=False)\n",
    "    nonrpa.n_iter = int(np.ceil(np.power(params[\"n_iter\"], 1/params[\"nrpa_level\"])))\n",
    "    nonrpa.alpha = params[\"nrpa_alpha\"]\n",
    "    \n",
    "    \n",
    "    _, _, _ = nrpa.main_loop()\n",
    "    _, _, _ = nonrpa.main_loop()\n",
    "    \n",
    "    methods[\"NRPA\"].append(nonrpa.best_reward)\n",
    "    methods[\"Permutation NRPA\"].append(nrpa.best_reward)\n",
    "    "
   ]
  },
  {
   "cell_type": "code",
   "execution_count": null,
   "id": "71cc5226-5c69-4a7c-a978-01c57842903e",
   "metadata": {},
   "outputs": [],
   "source": [
    "f, ax = plt.subplots(1,1,figsize=(8,6))\n",
    "for name, results in methods.items():\n",
    "    ax.plot(np.mean(results, axis=0)[:datasets[\"nas_bench_201\"][\"n_iter\"]], label=name)\n",
    "plt.xlim(-datasets[\"nas_bench_201\"][\"n_iter\"]/30, datasets[\"nas_bench_201\"][\"n_iter\"]+(datasets[\"nas_bench_201\"][\"n_iter\"]/30))\n",
    "ax.set_ylabel(\"Accuracy\"); ax.set_xlabel(\"# of network evaluations\")\n",
    "f.suptitle(\"NAS-Bench-301\")\n",
    "ax.legend()\n",
    "plt.tight_layout()\n",
    "ax.legend()"
   ]
  },
  {
   "cell_type": "markdown",
   "id": "a8b083fe-3454-4a6e-bab2-ba22a96be8ca",
   "metadata": {},
   "source": [
    "### On NATS-Bench"
   ]
  },
  {
   "cell_type": "code",
   "execution_count": 33,
   "id": "a5d7d80d-4054-4f13-92f4-91a9d1e1187e",
   "metadata": {},
   "outputs": [],
   "source": [
    "class NoPermutationNATSNRPA(NATSBenchNRPA):\n",
    "\n",
    "    def __init__(self, root_node: NATSBenchSizeNestedNode, level, api, save_folder=None, params_path=None,\n",
    "                 disable_tqdm=False, df=None):\n",
    "        super().__init__(root_node, level, api, save_folder, params_path,\n",
    "                 disable_tqdm, df)\n",
    "\n",
    "    def _code(self, node, move):\n",
    "\n",
    "        if move == None:\n",
    "            ### SEULEMENT POUR LA RACINE DE L'ARBRE A PRIORI\n",
    "            return node.hash\n",
    "\n",
    "        state_code = node.hash\n",
    "        code = str(state_code) \n",
    "        for i in range(len(move)):\n",
    "            code = code + str(move[i])\n",
    "\n",
    "        return code"
   ]
  },
  {
   "cell_type": "code",
   "execution_count": 34,
   "id": "8a554a34-74ca-47ca-97eb-409bdbadb03b",
   "metadata": {
    "scrolled": true
   },
   "outputs": [
    {
     "name": "stdout",
     "output_type": "stream",
     "text": [
      "RUN N° 1/20\n"
     ]
    },
    {
     "name": "stderr",
     "output_type": "stream",
     "text": [
      "Current best reward : 93.6500: 100%|██████████| 1000/1000 [00:01<00:00, 593.10it/s]\n"
     ]
    },
    {
     "name": "stdout",
     "output_type": "stream",
     "text": [
      "Sequence is [(1, 64), (2, 56), (4, 24), (0, 64), (3, 64)] with score 93.65\n"
     ]
    },
    {
     "name": "stderr",
     "output_type": "stream",
     "text": [
      "Current best reward : 93.6500: 100%|██████████| 1000/1000 [00:01<00:00, 653.41it/s]\n"
     ]
    },
    {
     "name": "stdout",
     "output_type": "stream",
     "text": [
      "Sequence is [(0, 64), (2, 56), (4, 64), (1, 64), (3, 64)] with score 93.65\n",
      "RUN N° 2/20\n"
     ]
    },
    {
     "name": "stderr",
     "output_type": "stream",
     "text": [
      "Current best reward : 93.6500: 100%|██████████| 1000/1000 [00:01<00:00, 569.27it/s]\n"
     ]
    },
    {
     "name": "stdout",
     "output_type": "stream",
     "text": [
      "Sequence is [(1, 64), (3, 64), (4, 64), (2, 56), (0, 64)] with score 93.65\n"
     ]
    },
    {
     "name": "stderr",
     "output_type": "stream",
     "text": [
      "Current best reward : 93.6500: 100%|██████████| 1000/1000 [00:01<00:00, 587.06it/s]\n"
     ]
    },
    {
     "name": "stdout",
     "output_type": "stream",
     "text": [
      "Sequence is [(1, 64), (3, 64), (2, 56), (0, 64), (4, 64)] with score 93.65\n",
      "RUN N° 3/20\n"
     ]
    },
    {
     "name": "stderr",
     "output_type": "stream",
     "text": [
      "Current best reward : 93.6500: 100%|██████████| 1000/1000 [00:01<00:00, 588.57it/s]\n"
     ]
    },
    {
     "name": "stdout",
     "output_type": "stream",
     "text": [
      "Sequence is [(4, 24), (3, 64), (2, 56), (1, 64), (0, 64)] with score 93.65\n"
     ]
    },
    {
     "name": "stderr",
     "output_type": "stream",
     "text": [
      "Current best reward : 93.6500: 100%|██████████| 1000/1000 [00:01<00:00, 563.51it/s]\n"
     ]
    },
    {
     "name": "stdout",
     "output_type": "stream",
     "text": [
      "Sequence is [(2, 56), (1, 64), (3, 64), (0, 64), (4, 24)] with score 93.65\n",
      "RUN N° 4/20\n"
     ]
    },
    {
     "name": "stderr",
     "output_type": "stream",
     "text": [
      "Current best reward : 93.6500: 100%|██████████| 1000/1000 [00:01<00:00, 593.77it/s]\n"
     ]
    },
    {
     "name": "stdout",
     "output_type": "stream",
     "text": [
      "Sequence is [(2, 56), (1, 64), (0, 64), (3, 64), (4, 64)] with score 93.65\n"
     ]
    },
    {
     "name": "stderr",
     "output_type": "stream",
     "text": [
      "Current best reward : 93.6500: 100%|██████████| 1000/1000 [00:01<00:00, 587.00it/s]\n"
     ]
    },
    {
     "name": "stdout",
     "output_type": "stream",
     "text": [
      "Sequence is [(3, 64), (4, 64), (2, 56), (0, 64), (1, 64)] with score 93.65\n",
      "RUN N° 5/20\n"
     ]
    },
    {
     "name": "stderr",
     "output_type": "stream",
     "text": [
      "Current best reward : 93.5100: 100%|██████████| 1000/1000 [00:01<00:00, 606.99it/s]\n"
     ]
    },
    {
     "name": "stdout",
     "output_type": "stream",
     "text": [
      "Sequence is [(3, 56), (0, 56), (1, 64), (2, 64), (4, 48)] with score 93.56\n"
     ]
    },
    {
     "name": "stderr",
     "output_type": "stream",
     "text": [
      "Current best reward : 93.6500: 100%|██████████| 1000/1000 [00:01<00:00, 598.76it/s]\n"
     ]
    },
    {
     "name": "stdout",
     "output_type": "stream",
     "text": [
      "Sequence is [(0, 64), (3, 64), (4, 24), (1, 64), (2, 56)] with score 93.65\n",
      "RUN N° 6/20\n"
     ]
    },
    {
     "name": "stderr",
     "output_type": "stream",
     "text": [
      "Current best reward : 93.6500: 100%|██████████| 1000/1000 [00:01<00:00, 572.65it/s]\n"
     ]
    },
    {
     "name": "stdout",
     "output_type": "stream",
     "text": [
      "Sequence is [(2, 56), (1, 64), (4, 64), (3, 64), (0, 64)] with score 93.65\n"
     ]
    },
    {
     "name": "stderr",
     "output_type": "stream",
     "text": [
      "Current best reward : 93.6500: 100%|██████████| 1000/1000 [00:01<00:00, 635.20it/s]\n"
     ]
    },
    {
     "name": "stdout",
     "output_type": "stream",
     "text": [
      "Sequence is [(2, 56), (1, 64), (0, 64), (4, 64), (3, 64)] with score 93.65\n",
      "RUN N° 7/20\n"
     ]
    },
    {
     "name": "stderr",
     "output_type": "stream",
     "text": [
      "Current best reward : 93.6500: 100%|██████████| 1000/1000 [00:01<00:00, 619.65it/s]\n"
     ]
    },
    {
     "name": "stdout",
     "output_type": "stream",
     "text": [
      "Sequence is [(0, 64), (4, 64), (1, 64), (2, 56), (3, 64)] with score 93.65\n"
     ]
    },
    {
     "name": "stderr",
     "output_type": "stream",
     "text": [
      "Current best reward : 93.6500: 100%|██████████| 1000/1000 [00:01<00:00, 595.16it/s]\n"
     ]
    },
    {
     "name": "stdout",
     "output_type": "stream",
     "text": [
      "Sequence is [(1, 64), (3, 64), (2, 56), (0, 64), (4, 64)] with score 93.65\n",
      "RUN N° 8/20\n"
     ]
    },
    {
     "name": "stderr",
     "output_type": "stream",
     "text": [
      "Current best reward : 93.6500: 100%|██████████| 1000/1000 [00:01<00:00, 705.72it/s]\n"
     ]
    },
    {
     "name": "stdout",
     "output_type": "stream",
     "text": [
      "Sequence is [(2, 56), (1, 64), (4, 64), (3, 64), (0, 64)] with score 93.65\n"
     ]
    },
    {
     "name": "stderr",
     "output_type": "stream",
     "text": [
      "Current best reward : 93.6500: 100%|██████████| 1000/1000 [00:01<00:00, 654.90it/s]\n"
     ]
    },
    {
     "name": "stdout",
     "output_type": "stream",
     "text": [
      "Sequence is [(4, 64), (1, 64), (2, 56), (3, 64), (0, 64)] with score 93.65\n",
      "RUN N° 9/20\n"
     ]
    },
    {
     "name": "stderr",
     "output_type": "stream",
     "text": [
      "Current best reward : 93.6500: 100%|██████████| 1000/1000 [00:01<00:00, 611.59it/s]\n"
     ]
    },
    {
     "name": "stdout",
     "output_type": "stream",
     "text": [
      "Sequence is [(1, 64), (2, 56), (0, 64), (4, 24), (3, 64)] with score 93.65\n"
     ]
    },
    {
     "name": "stderr",
     "output_type": "stream",
     "text": [
      "Current best reward : 93.6500: 100%|██████████| 1000/1000 [00:01<00:00, 613.95it/s]\n"
     ]
    },
    {
     "name": "stdout",
     "output_type": "stream",
     "text": [
      "Sequence is [(0, 64), (1, 64), (4, 24), (3, 64), (2, 56)] with score 93.65\n",
      "RUN N° 10/20\n"
     ]
    },
    {
     "name": "stderr",
     "output_type": "stream",
     "text": [
      "Current best reward : 93.6500: 100%|██████████| 1000/1000 [00:01<00:00, 651.51it/s]\n"
     ]
    },
    {
     "name": "stdout",
     "output_type": "stream",
     "text": [
      "Sequence is [(1, 64), (2, 56), (0, 64), (4, 64), (3, 64)] with score 93.65\n"
     ]
    },
    {
     "name": "stderr",
     "output_type": "stream",
     "text": [
      "Current best reward : 93.6500: 100%|██████████| 1000/1000 [00:01<00:00, 688.30it/s]\n"
     ]
    },
    {
     "name": "stdout",
     "output_type": "stream",
     "text": [
      "Sequence is [(2, 56), (0, 64), (4, 64), (1, 64), (3, 64)] with score 93.65\n",
      "RUN N° 11/20\n"
     ]
    },
    {
     "name": "stderr",
     "output_type": "stream",
     "text": [
      "Current best reward : 93.6500: 100%|██████████| 1000/1000 [00:01<00:00, 698.69it/s]\n"
     ]
    },
    {
     "name": "stdout",
     "output_type": "stream",
     "text": [
      "Sequence is [(1, 64), (0, 64), (2, 56), (4, 64), (3, 64)] with score 93.65\n"
     ]
    },
    {
     "name": "stderr",
     "output_type": "stream",
     "text": [
      "Current best reward : 93.6500: 100%|██████████| 1000/1000 [00:01<00:00, 620.87it/s]\n"
     ]
    },
    {
     "name": "stdout",
     "output_type": "stream",
     "text": [
      "Sequence is [(1, 64), (0, 64), (2, 56), (4, 24), (3, 64)] with score 93.65\n",
      "RUN N° 12/20\n"
     ]
    },
    {
     "name": "stderr",
     "output_type": "stream",
     "text": [
      "Current best reward : 93.6500: 100%|██████████| 1000/1000 [00:01<00:00, 695.88it/s]\n"
     ]
    },
    {
     "name": "stdout",
     "output_type": "stream",
     "text": [
      "Sequence is [(4, 24), (2, 56), (0, 64), (3, 64), (1, 64)] with score 93.65\n"
     ]
    },
    {
     "name": "stderr",
     "output_type": "stream",
     "text": [
      "Current best reward : 93.6500: 100%|██████████| 1000/1000 [00:01<00:00, 691.92it/s]\n"
     ]
    },
    {
     "name": "stdout",
     "output_type": "stream",
     "text": [
      "Sequence is [(0, 64), (1, 64), (4, 64), (3, 64), (2, 56)] with score 93.65\n",
      "RUN N° 13/20\n"
     ]
    },
    {
     "name": "stderr",
     "output_type": "stream",
     "text": [
      "Current best reward : 93.6500: 100%|██████████| 1000/1000 [00:01<00:00, 660.09it/s]\n"
     ]
    },
    {
     "name": "stdout",
     "output_type": "stream",
     "text": [
      "Sequence is [(0, 64), (3, 64), (1, 64), (4, 24), (2, 56)] with score 93.65\n"
     ]
    },
    {
     "name": "stderr",
     "output_type": "stream",
     "text": [
      "Current best reward : 93.6500: 100%|██████████| 1000/1000 [00:01<00:00, 675.39it/s]\n"
     ]
    },
    {
     "name": "stdout",
     "output_type": "stream",
     "text": [
      "Sequence is [(1, 64), (2, 56), (4, 64), (0, 64), (3, 64)] with score 93.65\n",
      "RUN N° 14/20\n"
     ]
    },
    {
     "name": "stderr",
     "output_type": "stream",
     "text": [
      "Current best reward : 93.6500: 100%|██████████| 1000/1000 [00:01<00:00, 680.71it/s]\n"
     ]
    },
    {
     "name": "stdout",
     "output_type": "stream",
     "text": [
      "Sequence is [(0, 64), (3, 64), (2, 56), (1, 64), (4, 64)] with score 93.65\n"
     ]
    },
    {
     "name": "stderr",
     "output_type": "stream",
     "text": [
      "Current best reward : 93.6500: 100%|██████████| 1000/1000 [00:01<00:00, 677.34it/s]\n"
     ]
    },
    {
     "name": "stdout",
     "output_type": "stream",
     "text": [
      "Sequence is [(2, 56), (1, 64), (4, 64), (3, 64), (0, 64)] with score 93.65\n",
      "RUN N° 15/20\n"
     ]
    },
    {
     "name": "stderr",
     "output_type": "stream",
     "text": [
      "Current best reward : 93.5300: 100%|██████████| 1000/1000 [00:01<00:00, 648.44it/s]\n"
     ]
    },
    {
     "name": "stdout",
     "output_type": "stream",
     "text": [
      "Sequence is [(0, 64), (2, 64), (1, 56), (4, 64), (3, 48)] with score 93.53\n"
     ]
    },
    {
     "name": "stderr",
     "output_type": "stream",
     "text": [
      "Current best reward : 93.6500: 100%|██████████| 1000/1000 [00:01<00:00, 653.18it/s]\n"
     ]
    },
    {
     "name": "stdout",
     "output_type": "stream",
     "text": [
      "Sequence is [(1, 64), (3, 64), (2, 56), (4, 64), (0, 64)] with score 93.65\n",
      "RUN N° 16/20\n"
     ]
    },
    {
     "name": "stderr",
     "output_type": "stream",
     "text": [
      "Current best reward : 93.5600: 100%|██████████| 1000/1000 [00:01<00:00, 642.31it/s]\n"
     ]
    },
    {
     "name": "stdout",
     "output_type": "stream",
     "text": [
      "Sequence is [(3, 56), (0, 56), (4, 48), (2, 64), (1, 64)] with score 93.56\n"
     ]
    },
    {
     "name": "stderr",
     "output_type": "stream",
     "text": [
      "Current best reward : 93.6500: 100%|██████████| 1000/1000 [00:01<00:00, 634.50it/s]\n"
     ]
    },
    {
     "name": "stdout",
     "output_type": "stream",
     "text": [
      "Sequence is [(2, 56), (4, 64), (3, 64), (1, 64), (0, 64)] with score 93.65\n",
      "RUN N° 17/20\n"
     ]
    },
    {
     "name": "stderr",
     "output_type": "stream",
     "text": [
      "Current best reward : 93.4900: 100%|██████████| 1000/1000 [00:01<00:00, 638.49it/s]\n"
     ]
    },
    {
     "name": "stdout",
     "output_type": "stream",
     "text": [
      "Sequence is [(3, 64), (4, 64), (1, 40), (2, 64), (0, 48)] with score 93.49\n"
     ]
    },
    {
     "name": "stderr",
     "output_type": "stream",
     "text": [
      "Current best reward : 93.6500: 100%|██████████| 1000/1000 [00:01<00:00, 646.57it/s]\n"
     ]
    },
    {
     "name": "stdout",
     "output_type": "stream",
     "text": [
      "Sequence is [(3, 64), (2, 56), (0, 64), (4, 24), (1, 64)] with score 93.65\n",
      "RUN N° 18/20\n"
     ]
    },
    {
     "name": "stderr",
     "output_type": "stream",
     "text": [
      "Current best reward : 93.6500: 100%|██████████| 1000/1000 [00:01<00:00, 642.05it/s]\n"
     ]
    },
    {
     "name": "stdout",
     "output_type": "stream",
     "text": [
      "Sequence is [(0, 64), (4, 24), (1, 64), (3, 64), (2, 56)] with score 93.65\n"
     ]
    },
    {
     "name": "stderr",
     "output_type": "stream",
     "text": [
      "Current best reward : 93.6500: 100%|██████████| 1000/1000 [00:01<00:00, 626.81it/s]\n"
     ]
    },
    {
     "name": "stdout",
     "output_type": "stream",
     "text": [
      "Sequence is [(3, 64), (1, 64), (0, 64), (2, 56), (4, 64)] with score 93.65\n",
      "RUN N° 19/20\n"
     ]
    },
    {
     "name": "stderr",
     "output_type": "stream",
     "text": [
      "Current best reward : 93.6500: 100%|██████████| 1000/1000 [00:01<00:00, 640.58it/s]\n"
     ]
    },
    {
     "name": "stdout",
     "output_type": "stream",
     "text": [
      "Sequence is [(3, 64), (0, 64), (4, 64), (1, 64), (2, 56)] with score 93.65\n"
     ]
    },
    {
     "name": "stderr",
     "output_type": "stream",
     "text": [
      "Current best reward : 93.6500: 100%|██████████| 1000/1000 [00:01<00:00, 610.16it/s]\n"
     ]
    },
    {
     "name": "stdout",
     "output_type": "stream",
     "text": [
      "Sequence is [(4, 64), (1, 64), (0, 64), (2, 56), (3, 64)] with score 93.65\n",
      "RUN N° 20/20\n"
     ]
    },
    {
     "name": "stderr",
     "output_type": "stream",
     "text": [
      "Current best reward : 93.6500: 100%|██████████| 1000/1000 [00:01<00:00, 661.52it/s]\n"
     ]
    },
    {
     "name": "stdout",
     "output_type": "stream",
     "text": [
      "Sequence is [(4, 64), (0, 64), (1, 64), (3, 64), (2, 56)] with score 93.65\n"
     ]
    },
    {
     "name": "stderr",
     "output_type": "stream",
     "text": [
      "Current best reward : 93.6500: 100%|██████████| 1000/1000 [00:01<00:00, 628.32it/s]"
     ]
    },
    {
     "name": "stdout",
     "output_type": "stream",
     "text": [
      "Sequence is [(0, 64), (4, 24), (1, 64), (2, 56), (3, 64)] with score 93.65\n"
     ]
    },
    {
     "name": "stderr",
     "output_type": "stream",
     "text": [
      "\n"
     ]
    }
   ],
   "source": [
    "methods = {\"NRPA\": [],\n",
    "           \"Permutation NRPA\": []}\n",
    "\n",
    "params = datasets[\"nats_bench\"]\n",
    "params[\"n_runs\"] = 20\n",
    "params[\"n_iter\"] = 1000\n",
    "\n",
    "for i in range(params[\"n_runs\"]):\n",
    "    print(f\"RUN N° {i+1}/{params['n_runs']}\")\n",
    "    \n",
    "    root_node_nrpa = NATSBenchSizeNestedNode(sequence=[])\n",
    "    nrpa = NATSBenchNRPA(root_node_nrpa,\n",
    "                         params[\"nrpa_level\"],\n",
    "                         api=params[\"api\"],\n",
    "                         df=nats_bench_df,\n",
    "                         params_path=\"utils/params.json\",\n",
    "                         disable_tqdm=False)\n",
    "    nrpa.n_iter = int(np.ceil(np.power(params[\"n_iter\"], 1/params[\"nrpa_level\"])))\n",
    "    nrpa.alpha = params[\"nrpa_alpha\"]\n",
    "    \n",
    "    root_node_nonrpa = NATSBenchSizeNestedNode(sequence=[])\n",
    "    nonrpa = NATSBenchNRPA(root_node_nonrpa,\n",
    "                         params[\"nrpa_level\"],\n",
    "                         api=params[\"api\"],\n",
    "                         df=nats_bench_df,\n",
    "                         params_path=\"utils/params.json\",\n",
    "                         disable_tqdm=False)\n",
    "    nonrpa.n_iter = int(np.ceil(np.power(params[\"n_iter\"], 1/params[\"nrpa_level\"])))\n",
    "    nonrpa.alpha = params[\"nrpa_alpha\"]\n",
    "    \n",
    "    \n",
    "    _, _, _ = nrpa.main_loop()\n",
    "    _, _, _ = nonrpa.main_loop()\n",
    "    \n",
    "    methods[\"NRPA\"].append(nonrpa.best_reward)\n",
    "    methods[\"Permutation NRPA\"].append(nrpa.best_reward)\n",
    "    "
   ]
  },
  {
   "cell_type": "code",
   "execution_count": 36,
   "id": "8746885b-7d36-4606-a328-8e4d648cd4ea",
   "metadata": {},
   "outputs": [
    {
     "data": {
      "image/png": "[encoded data removed]",
      "text/plain": [
       "<Figure size 800x600 with 1 Axes>"
      ]
     },
     "metadata": {},
     "output_type": "display_data"
    }
   ],
   "source": [
    "f, ax = plt.subplots(1,1,figsize=(8,6))\n",
    "for name, results in methods.items():\n",
    "    ax.plot(np.mean(results, axis=0)[:datasets[\"nats_bench\"][\"n_iter\"]], label=name)\n",
    "plt.xlim(-datasets[\"nats_bench\"][\"n_iter\"]/30, datasets[\"nats_bench\"][\"n_iter\"]+(datasets[\"nats_bench\"][\"n_iter\"]/30))\n",
    "ax.set_ylabel(\"Accuracy\"); ax.set_xlabel(\"# of network evaluations\")\n",
    "f.suptitle(\"NATS-Bench\")\n",
    "ax.legend()\n",
    "plt.tight_layout()\n",
    "ax.legend()\n",
    "plt.savefig('figures/nrpaVSpermunrpa-nats.png')"
   ]
  },
  {
   "cell_type": "code",
   "execution_count": null,
   "id": "95602055-86b4-48fc-9025-1bc701882681",
   "metadata": {},
   "outputs": [],
   "source": []
  }
 ],
 "metadata": {
  "kernelspec": {
   "display_name": "Python 3 (ipykernel)",
   "language": "python",
   "name": "python3"
  },
  "language_info": {
   "codemirror_mode": {
    "name": "ipython",
    "version": 3
   },
   "file_extension": ".py",
   "mimetype": "text/x-python",
   "name": "python",
   "nbconvert_exporter": "python",
   "pygments_lexer": "ipython3",
   "version": "3.11.3"
  }
 },
 "nbformat": 4,
 "nbformat_minor": 5
}
