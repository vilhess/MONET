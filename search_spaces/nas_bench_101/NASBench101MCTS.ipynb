{
 "cells": [
  {
   "cell_type": "code",
   "execution_count": null,
   "id": "41ddc16e",
   "metadata": {},
   "outputs": [],
   "source": [
    "from nasbench import api"
   ]
  },
  {
   "cell_type": "code",
   "execution_count": null,
   "id": "661c097e",
   "metadata": {},
   "outputs": [],
   "source": [
    "nasbench = api.NASBench(\"API/nasbench_full.tfrecord\")"
   ]
  },
  {
   "cell_type": "code",
   "execution_count": null,
   "id": "efd35d9f-3bd2-4029-9972-06080f0ff092",
   "metadata": {},
   "outputs": [],
   "source": [
    "import sys\n",
    "sys.path.append(\"..\")\n",
    "import time\n",
    "import numpy as np\n",
    "import seaborn as sns\n",
    "import importlib\n",
    "import NASBench101Node\n",
    "from tqdm import tqdm\n",
    "from MCTS import mcts_agent\n",
    "import NASBench101MCTS\n",
    "from nas_bench_201 import NASBench201Node\n",
    "from nas_bench_301 import NASBench301Node\n",
    "importlib.reload(NASBench201Node)\n",
    "importlib.reload(NASBench301Node)\n",
    "importlib.reload(NASBench101Node)\n",
    "importlib.reload(NASBench101MCTS)\n",
    "importlib.reload(mcts_agent)\n",
    "from NASBench101Node import NASBench101Node, NASBench101Cell\n",
    "from NASBench101MCTS import NASBench101UCT"
   ]
  },
  {
   "cell_type": "code",
   "execution_count": null,
   "id": "fcb68e39-6493-4be7-86f0-1ae9a31aa8b0",
   "metadata": {},
   "outputs": [],
   "source": [
    "root_node = NASBench101Node(state=NASBench101Cell(n_vertices=7))\n",
    "uct = NASBench101UCT(root_node=root_node, api=nasbench, params_path=\"/userdata/T0259728/projets/nas/params.json\", disable_tqdm=False)\n",
    "uct.n_iter = 10000\n",
    "returned_node, all_rewards, best_reward = uct.main_loop()\n",
    "adjacency, operations = returned_node.state.operations_and_adjacency()\n",
    "print(adjacency)\n",
    "print(operations)"
   ]
  },
  {
   "cell_type": "code",
   "execution_count": null,
   "id": "2b092f87-ac72-4492-931a-550bf68c9914",
   "metadata": {},
   "outputs": [],
   "source": [
    "import matplotlib.pyplot as plt\n",
    "print(best_reward[-1])\n",
    "plt.plot(best_reward)"
   ]
  },
  {
   "cell_type": "markdown",
   "id": "01cda493-4287-4226-90d7-08e0dde711f9",
   "metadata": {},
   "source": [
    "## Counting the number of architectures we can make"
   ]
  },
  {
   "cell_type": "code",
   "execution_count": null,
   "id": "c0ceb9e3-6d39-4ebf-b63b-eaa099a0d020",
   "metadata": {},
   "outputs": [],
   "source": [
    "def play_act(node):\n",
    "    available_actions = node.get_action_tuples()\n",
    "    if len(available_actions) == 0:\n",
    "        adjacency, operations = node.state.operations_and_adjacency()\n",
    "        model_spec = ModelSpecAPI.ModelSpec(\n",
    "                # Adjacency matrix of the module\n",
    "                matrix=adjacency,\n",
    "                # Operations at the vertices of the module, matches order of matrix\n",
    "                ops=operations)\n",
    "        is_valid = nasbench.is_valid(model_spec)\n",
    "        if is_valid:\n",
    "            return 1\n",
    "        else: return 0\n",
    "    for act in available_actions:\n",
    "        playout_node.play_action(random_action)\n",
    "        play_act(playout_node)\n",
    "\n",
    "for i in tqdm(range(100)):\n",
    "    node = NASBench101Node(state=NASBench101Cell(n_vertices=7))\n",
    "    node_type = type(node)\n",
    "    playout_node = node_type(state=copy.deepcopy(node.state))\n",
    "    n_archi = 0\n",
    "    n_\n",
    "\n",
    "\n",
    "    # is_valid = False\n",
    "    # while not is_valid:\n",
    "    #     playout_node = node_type(state=copy.deepcopy(node.state))\n",
    "    #     while not playout_node.is_terminal():\n",
    "    #         available_actions = playout_node.get_action_tuples()\n",
    "    #         random_action = available_actions[np.random.randint(len(available_actions))]\n",
    "    #         playout_node.play_action(random_action)\n",
    "    #     adjacency, operations = playout_node.state.operations_and_adjacency()\n",
    "    #     model_spec = ModelSpecAPI.ModelSpec(\n",
    "    #             # Adjacency matrix of the module\n",
    "    #             matrix=adjacency,\n",
    "    #             # Operations at the vertices of the module, matches order of matrix\n",
    "    #             ops=operations)\n",
    "    #     is_valid = nasbench.is_valid(model_spec)\n",
    "    # adjacency, operations = playout_node.state.operations_and_adjacency()"
   ]
  },
  {
   "cell_type": "code",
   "execution_count": null,
   "id": "d62cc3a3-b941-4128-80e7-d5067139dd88",
   "metadata": {
    "scrolled": true
   },
   "outputs": [],
   "source": [
    "import copy \n",
    "from nasbench import api as ModelSpecAPI\n",
    "\n",
    "n_archi = 0\n",
    "n_simil = 0\n",
    "list_adj = []\n",
    "list_op = []\n",
    "for i in tqdm(range(100000)):\n",
    "    node = NASBench101Node(state=NASBench101Cell(n_vertices=7))\n",
    "    is_valid = False\n",
    "    while not is_valid:\n",
    "        node_type = type(node)\n",
    "        playout_node = node_type(state=copy.deepcopy(node.state))\n",
    "        while not playout_node.is_terminal():\n",
    "            available_actions = playout_node.get_action_tuples()\n",
    "            random_action = available_actions[np.random.randint(len(available_actions))]\n",
    "            playout_node.play_action(random_action)\n",
    "        adjacency, operations = playout_node.state.operations_and_adjacency()\n",
    "        model_spec = ModelSpecAPI.ModelSpec(\n",
    "                # Adjacency matrix of the module\n",
    "                matrix=adjacency,\n",
    "                # Operations at the vertices of the module, matches order of matrix\n",
    "                ops=operations)\n",
    "        is_valid = nasbench.is_valid(model_spec)\n",
    "    adjacency, operations = playout_node.state.operations_and_adjacency()\n",
    "\n",
    "    # print(adjacency)\n",
    "    # print(operations)\n",
    "    # print(list_adj)\n",
    "    # print(list_op)\n",
    "    is_in_adj = False\n",
    "    for adj in list_adj:\n",
    "        if np.all(adjacency.flatten() == adj):\n",
    "            is_in_adj = True\n",
    "    is_in_op = False\n",
    "    for op in list_op:\n",
    "        if operations == op:\n",
    "            is_in_op = True\n",
    "    # print(f\"Adj is in list_adj: {is_in_adj}\")\n",
    "    # print(f\"Op is in list_op: {is_in_op}\")\n",
    "    if is_in_adj and is_in_op:\n",
    "        n_simil += 1\n",
    "    else:\n",
    "        n_archi += 1\n",
    "        list_adj.append(adjacency.flatten())\n",
    "        list_op.append(operations)\n",
    "    if i % 1000 == 0:\n",
    "        print(f\"We found {n_archi} different architectures with {n_simil} repeats\")\n",
    "        \n",
    "print(f\"We found {n_archi} different architectures with {n_simil} repeats\")"
   ]
  },
  {
   "cell_type": "code",
   "execution_count": null,
   "id": "0a46dc96-7536-45d3-a685-46dc3def05ba",
   "metadata": {},
   "outputs": [],
   "source": [
    "print(f\"We found {n_archi} different architectures with {n_simil} repeats\")"
   ]
  },
  {
   "cell_type": "code",
   "execution_count": null,
   "id": "6a1d57e6",
   "metadata": {},
   "outputs": [],
   "source": [
    "INPUT = 'input'\n",
    "OUTPUT = 'output'\n",
    "CONV1X1 = 'conv1x1-bn-relu'\n",
    "CONV3X3 = 'conv3x3-bn-relu'\n",
    "MAXPOOL3X3 = 'maxpool3x3'"
   ]
  },
  {
   "cell_type": "code",
   "execution_count": null,
   "id": "77619556",
   "metadata": {},
   "outputs": [],
   "source": [
    "model_spec = api.ModelSpec(\n",
    "  # Adjacency matrix of the module\n",
    "  matrix=[[0, 1, 1, 1, 0, 1, 0],    # input layer\n",
    "          [0, 0, 0, 0, 0, 0, 1],    # 1x1 conv\n",
    "          [0, 0, 0, 0, 0, 0, 1],    # 3x3 conv\n",
    "          [0, 0, 0, 0, 1, 0, 0],    # 5x5 conv (replaced by two 3x3's)\n",
    "          [0, 0, 0, 0, 0, 0, 1],    # 5x5 conv (replaced by two 3x3's)\n",
    "          [0, 0, 0, 0, 0, 0, 1],    # 3x3 max-pool\n",
    "          [0, 0, 0, 0, 0, 0, 0]],   # output layer\n",
    "  # Operations at the vertices of the module, matches order of matrix\n",
    "  ops=[INPUT, CONV1X1, CONV3X3, CONV3X3, CONV3X3, MAXPOOL3X3, OUTPUT])\n",
    "\n",
    "# Query this model from dataset, returns a dictionary containing the metrics\n",
    "# associated with this model.\n",
    "print('Querying an Inception-like model.')\n",
    "data = nasbench.query(model_spec)\n",
    "print(data)\n",
    "print(nasbench.get_budget_counters())   # prints (total time, total epochs)"
   ]
  },
  {
   "cell_type": "code",
   "execution_count": null,
   "id": "4118bc73",
   "metadata": {
    "scrolled": true
   },
   "outputs": [],
   "source": [
    "import pandas as pd\n",
    "import numpy as np\n",
    "from tqdm import tqdm\n",
    "print('\\nIterating over unique models in the dataset.')\n",
    "columns=['module_adjacency',\n",
    " 'module_operations',\n",
    " 'trainable_parameters',\n",
    " 'halfway_training_time',\n",
    " 'halfway_train_accuracy',\n",
    " 'halfway_validation_accuracy',\n",
    " 'halfway_test_accuracy',\n",
    " 'final_training_time',\n",
    " 'final_train_accuracy',\n",
    " 'final_validation_accuracy',\n",
    " 'final_test_accuracy']\n",
    "df = pd.DataFrame(columns=columns)\n",
    "i = 0\n",
    "for unique_hash in tqdm(nasbench.hash_iterator()):\n",
    "    fixed_metrics, computed_metrics = nasbench.get_metrics_from_hash(\n",
    "        unique_hash)\n",
    "    dic = {}\n",
    "    for k, v in fixed_metrics.items():\n",
    "        dic[k] = v\n",
    "    mets= computed_metrics[108]\n",
    "    for col_name in  ['halfway_training_time', 'halfway_train_accuracy', 'halfway_validation_accuracy', \n",
    "                      'halfway_test_accuracy', 'final_training_time', 'final_train_accuracy', \n",
    "                      'final_validation_accuracy', 'final_test_accuracy']:\n",
    "        dic[col_name] = np.mean([e[col_name] for e in mets])\n",
    "    # For demo purposes, break here instead of iterating through whole set.\n",
    "    df = df.append(pd.Series(dic), ignore_index=True)\n",
    "    if i % 100000 == 0:\n",
    "        df.to_csv(\"nas_bench_101.csv\")\n",
    "    i += 1"
   ]
  },
  {
   "cell_type": "code",
   "execution_count": null,
   "id": "aa257ed9",
   "metadata": {},
   "outputs": [],
   "source": [
    "import seaborn as sns\n",
    "import matplotlib.pyplot as plt\n",
    "import pandas as pd\n",
    "df = pd.read_csv(\"nas_bench_101.csv\")\n",
    "# f, ax = plt.subplots(figsize=(10,10))\n",
    "# sns.scatterplot(data=df, x=\"trainable_parameters\", y=\"final_test_accuracy\", s=20)"
   ]
  },
  {
   "cell_type": "code",
   "execution_count": null,
   "id": "0882ef38-df90-4536-83b8-d7ea59784074",
   "metadata": {},
   "outputs": [],
   "source": [
    "df2 = df.sort_values([\"final_test_accuracy\"], ascending=False)\n",
    "id = 0\n",
    "print(df2[\"module_operations\"].iloc[id])\n",
    "print(df2[\"final_test_accuracy\"].iloc[id])\n",
    "print(df2[\"module_adjacency\"].iloc[id])"
   ]
  },
  {
   "cell_type": "code",
   "execution_count": null,
   "id": "85b55160-39af-4548-bed6-8c043d998195",
   "metadata": {},
   "outputs": [],
   "source": [
    "rd_index = np.random.randint(df.shape[0])\n",
    "print(df[\"module_adjacency\"].iloc[rd_index])\n",
    "print(df2[\"final_test_accuracy\"].iloc[rd_index])\n",
    "df[\"module_operations\"].iloc[rd_index]"
   ]
  },
  {
   "cell_type": "code",
   "execution_count": null,
   "id": "6dd68122",
   "metadata": {},
   "outputs": [],
   "source": [
    "import sys\n",
    "sys.path.append(\"..\")\n",
    "import time\n",
    "import numpy as np\n",
    "import seaborn as sns\n",
    "import importlib\n",
    "import MCTS.mcts_agent\n",
    "import NASBench201MCTS\n",
    "importlib.reload(MCTS.mcts_agent)\n",
    "importlib.reload(NASBench201MCTS)\n",
    "sns.set_context(\"notebook\")\n",
    "sns.set_theme(sns.plotting_context(\"notebook\", font_scale=1), style=\"whitegrid\", palette=sns.color_palette(\"deep\"))\n",
    "from MCTS.mcts_agent import MCTSAgent, UCT\n",
    "from NASBench201MCTS import NASBench201UCT, NASBench201RAVE, NASBench201GRAVE\n",
    "from nas_201_api import NASBench201API as API"
   ]
  },
  {
   "cell_type": "code",
   "execution_count": null,
   "id": "676bfbbe",
   "metadata": {},
   "outputs": [],
   "source": [
    "t1 = time.time()\n",
    "api = API('/userdata/T0259728/Bureau/NAS-Bench-201-v1_1-096897.pth', verbose=False)\n",
    "t2 = time.time()\n",
    "print(f\"API inistialized in {t2-t1} seconds.\")"
   ]
  },
  {
   "cell_type": "code",
   "execution_count": null,
   "id": "ea195652",
   "metadata": {},
   "outputs": [],
   "source": [
    "from NASBench201Node import NASBench201Node, NASBench201AMAFNode, NASBench201Cell"
   ]
  },
  {
   "cell_type": "code",
   "execution_count": null,
   "id": "196574d1",
   "metadata": {},
   "outputs": [],
   "source": [
    "N_RUNS = 20"
   ]
  },
  {
   "cell_type": "code",
   "execution_count": null,
   "id": "2e5acfb6",
   "metadata": {
    "scrolled": true
   },
   "outputs": [],
   "source": [
    "avg_rewards_uct = []\n",
    "avg_best_reward_uct = []\n",
    "\n",
    "for n_run in range(N_RUNS):\n",
    "    print(f\"[{n_run}/{N_RUNS}]\")        \n",
    "    root_node = NASBench201Node(state=NASBench201Cell(4))\n",
    "    uct = NASBench201UCT(root_node, api,\n",
    "                      params_path=\"/userdata/T0259728/projets/nas/params.json\", disable_tqdm=True)\n",
    "    uct.C = 0.1\n",
    "    uct.n_iter=500\n",
    "    uct.playouts_per_selection = 1\n",
    "    returned_node, all_rewards, best_reward = uct.main_loop()\n",
    "    avg_rewards_uct.append(all_rewards)\n",
    "    avg_best_reward_uct.append(best_reward)"
   ]
  },
  {
   "cell_type": "code",
   "execution_count": null,
   "id": "22b86d8b",
   "metadata": {
    "scrolled": true
   },
   "outputs": [],
   "source": [
    "avg_rewards_rave = []\n",
    "avg_best_reward_rave = []\n",
    "\n",
    "for n_run in range(N_RUNS):\n",
    "    try: \n",
    "        print(f\"{n_run}/{N_RUNS}\")\n",
    "        root_node = NASBench201AMAFNode(state=NASBench201Cell(4))\n",
    "        rave = NASBench201RAVE(root_node, api,\n",
    "                          params_path=\"/userdata/T0259728/projets/nas/params.json\", disable_tqdm=True)\n",
    "        rave.C = 0.1\n",
    "        rave.b=0.1\n",
    "        rave.n_iter=500\n",
    "        rave.playouts_per_selection = 1\n",
    "        returned_node, all_rewards, best_reward = rave.main_loop()\n",
    "        avg_rewards_rave.append(all_rewards)\n",
    "        avg_best_reward_rave.append(best_reward)\n",
    "    except Exception:\n",
    "        continue"
   ]
  },
  {
   "cell_type": "code",
   "execution_count": null,
   "id": "e43da295",
   "metadata": {
    "scrolled": true
   },
   "outputs": [],
   "source": [
    "avg_rewards_grave = []\n",
    "avg_best_reward_grave = []\n",
    "\n",
    "for n_run in range(N_RUNS):\n",
    "    try: \n",
    "        print(f\"{n_run}/{N_RUNS}\")\n",
    "        root_node = NASBench201AMAFNode(state=NASBench201Cell(4))\n",
    "        grave = NASBench201GRAVE(root_node, api,\n",
    "                          params_path=\"/userdata/T0259728/projets/nas/params.json\", disable_tqdm=True)\n",
    "        grave.C = 0.1\n",
    "        grave.b=0.1\n",
    "        grave.ref = 10\n",
    "        grave.n_iter=500\n",
    "        grave.playouts_per_selection = 1\n",
    "        returned_node, all_rewards, best_reward = grave.main_loop()\n",
    "        avg_rewards_grave.append(all_rewards)\n",
    "        avg_best_reward_grave.append(best_reward)\n",
    "    except Exception:\n",
    "        continue"
   ]
  },
  {
   "cell_type": "code",
   "execution_count": null,
   "id": "6ecb9174",
   "metadata": {},
   "outputs": [],
   "source": [
    "import matplotlib.pyplot as plt\n",
    "plt.plot(np.mean(np.array(avg_be st_reward_uct), axis=0), label=\"UCT\")\n",
    "plt.plot(np.mean(np.array(avg_best_reward_rave), axis=0), label=\"RAVE\")\n",
    "plt.plot(np.mean(np.array(avg_best_reward_grave), axis=0), label=\"GRAVE\")\n",
    "plt.title(\"Evolution of the best architecture reward \\n 400 iterations\"); plt.xlabel(\"Iteration\"); plt.ylabel(\"CIFAR-100 accuracy\"); plt.legend();\n",
    "plt.ylim([0.56,0.62]);\n",
    "# plt.savefig(\"../figures/uct_vs_rave_vs_grave_best_reward_400.png\")\n",
    "plt.show()"
   ]
  },
  {
   "cell_type": "code",
   "execution_count": null,
   "id": "1352e84f",
   "metadata": {},
   "outputs": [],
   "source": [
    "importlib.reload(MCTS.mcts_agent)\n",
    "importlib.reload(NASBench201MCTS)\n",
    "from NASBench201MCTS import NASBench201UCT_NTK\n",
    "import tensorly as tl\n",
    "tl.set_backend(\"pytorch\")"
   ]
  },
  {
   "cell_type": "code",
   "execution_count": null,
   "id": "11a6fef2",
   "metadata": {
    "scrolled": true
   },
   "outputs": [],
   "source": [
    "avg_rewards_uct_ntk = []\n",
    "avg_best_reward_uct_ntk = []\n",
    "avg_accuracies_uct_ntk = []\n",
    "avg_best_accuracy_uct_ntk = []\n",
    "\n",
    "for n_run in range(N_RUNS):\n",
    "    print(f\"[{n_run}/{N_RUNS}]\")        \n",
    "    root_node = NASBench201Node(state=NASBench201Cell(4))\n",
    "    ntk = NASBench201UCT_NTK(root_node, api,\n",
    "                      params_path=\"/userdata/T0259728/projets/nas/params.json\", disable_tqdm=False)\n",
    "    ntk.C = 0.1\n",
    "    ntk.n_iter=400\n",
    "    ntk.playouts_per_selection = 1\n",
    "    returned_node, all_rewards, best_reward, all_accuracies, best_accuracies = ntk.main_loop()\n",
    "    avg_rewards_uct_ntk.append(all_rewards)\n",
    "    avg_best_reward_uct_ntk.append(best_reward)\n",
    "    avg_accuracies_uct_ntk.append(all_accuracies)\n",
    "    avg_best_accuracy_uct_ntk.append(best_accuracies)"
   ]
  },
  {
   "cell_type": "code",
   "execution_count": null,
   "id": "7caf53d5",
   "metadata": {},
   "outputs": [],
   "source": [
    "import matplotlib.pyplot as plt\n",
    "# plt.plot(np.mean(np.array(avg_best_reward_uct), axis=0), label=\"UCT\")\n",
    "f, ax1 = plt.subplots()\n",
    "ax1.plot(np.mean(np.array(avg_best_reward_uct_ntk), axis=0), label=\"NTK Metric\", color=\"#3d405b\")\n",
    "ax1.set_ylabel(\"NTK Metric\")\n",
    "\n",
    "ax2 = ax1.twinx()\n",
    "ax2.plot(np.mean(np.array(avg_best_accuracy_uct_ntk), axis=0), label=\"Accuracy\", color=\"#e07a5f\")\n",
    "ax2.set_ylabel(\"CIFAR-100 accuracy\")\n",
    "\n",
    "plt.title(\"Evolution of the best architecture reward \\n 400 iterations\"); plt.xlabel(\"Iteration\"); plt.ylabel(\"CIFAR-100 accuracy\"); \n",
    "plt.legend();\n",
    "# plt.ylim([0.56,0.62]);\n",
    "plt.savefig(\"../figures/ntk_metric.png\")\n",
    "plt.show()"
   ]
  },
  {
   "cell_type": "code",
   "execution_count": null,
   "id": "8f6a4189",
   "metadata": {},
   "outputs": [],
   "source": [
    "plt.plot(np.mean(np.array(avg_best_reward_uct_ntk), axis=0), label=\"kzjnj\")"
   ]
  },
  {
   "cell_type": "code",
   "execution_count": null,
   "id": "fc3b3c5a",
   "metadata": {},
   "outputs": [],
   "source": [
    "avg_best_reward_uct_ntk"
   ]
  },
  {
   "cell_type": "code",
   "execution_count": null,
   "id": "7f267489",
   "metadata": {},
   "outputs": [],
   "source": []
  }
 ],
 "metadata": {
  "kernelspec": {
   "display_name": "Python 3 (ipykernel)",
   "language": "python",
   "name": "python3"
  },
  "language_info": {
   "codemirror_mode": {
    "name": "ipython",
    "version": 3
   },
   "file_extension": ".py",
   "mimetype": "text/x-python",
   "name": "python",
   "nbconvert_exporter": "python",
   "pygments_lexer": "ipython3",
   "version": "3.11.4"
  }
 },
 "nbformat": 4,
 "nbformat_minor": 5
}
